{
  "nbformat": 4,
  "nbformat_minor": 0,
  "metadata": {
    "colab": {
      "name": "assignment-12_keras.ipynb",
      "version": "0.3.2",
      "provenance": [],
      "collapsed_sections": []
    },
    "kernelspec": {
      "name": "python3",
      "display_name": "Python 3"
    }
  },
  "cells": [
    {
      "cell_type": "code",
      "metadata": {
        "colab_type": "code",
        "id": "w-DNfahEKnWv",
        "colab": {
          "base_uri": "https://localhost:8080/",
          "height": 34
        },
        "outputId": "7ad22c62-6f73-47b4-cba7-02d996f35894"
      },
      "source": [
        "from keras.utils import np_utils \n",
        "from keras.datasets import mnist \n",
        "import seaborn as sns\n",
        "from keras.initializers import RandomNormal"
      ],
      "execution_count": 1,
      "outputs": [
        {
          "output_type": "stream",
          "text": [
            "Using TensorFlow backend.\n"
          ],
          "name": "stderr"
        }
      ]
    },
    {
      "cell_type": "code",
      "metadata": {
        "colab_type": "code",
        "id": "NsfZugUEKnW2",
        "colab": {}
      },
      "source": [
        "%matplotlib inline\n",
        "import matplotlib.pyplot as plt\n",
        "import numpy as np\n",
        "import time\n",
        "# https://gist.github.com/greydanus/f6eee59eaf1d90fcb3b534a25362cea4\n",
        "# https://stackoverflow.com/a/14434334\n",
        "# this function is used to update the plots for each epoch and error\n",
        "def plt_dynamic(x, vy, ty, ax, colors=['b']):\n",
        "    ax.plot(x, vy, 'b', label=\"Test Loss\")\n",
        "    ax.plot(x, ty, 'r', label=\"Train Loss\")\n",
        "    plt.legend()\n",
        "    plt.grid()\n",
        "    fig.canvas.draw()"
      ],
      "execution_count": 0,
      "outputs": []
    },
    {
      "cell_type": "code",
      "metadata": {
        "colab_type": "code",
        "id": "hA5TK8N1KnW5",
        "colab": {
          "base_uri": "https://localhost:8080/",
          "height": 51
        },
        "outputId": "d13bc4ed-927b-4e28-c2af-f0d0a2859d47"
      },
      "source": [
        "# the data, shuffled and split between train and test sets \n",
        "(X_train, y_train), (X_test, y_test) = mnist.load_data()"
      ],
      "execution_count": 3,
      "outputs": [
        {
          "output_type": "stream",
          "text": [
            "Downloading data from https://s3.amazonaws.com/img-datasets/mnist.npz\n",
            "11493376/11490434 [==============================] - 0s 0us/step\n"
          ],
          "name": "stdout"
        }
      ]
    },
    {
      "cell_type": "code",
      "metadata": {
        "colab_type": "code",
        "outputId": "7c389104-740a-4b99-82f4-bdeb1d875d9f",
        "id": "VM8hgZWhKnW8",
        "colab": {
          "base_uri": "https://localhost:8080/",
          "height": 51
        }
      },
      "source": [
        "print(\"Number of training examples :\", X_train.shape[0], \"and each image is of shape (%d, %d)\"%(X_train.shape[1], X_train.shape[2]))\n",
        "print(\"Number of testing examples :\", X_test.shape[0], \"and each image is of shape (%d, %d)\"%(X_test.shape[1], X_test.shape[2]))"
      ],
      "execution_count": 4,
      "outputs": [
        {
          "output_type": "stream",
          "text": [
            "Number of training examples : 60000 and each image is of shape (28, 28)\n",
            "Number of testing examples : 10000 and each image is of shape (28, 28)\n"
          ],
          "name": "stdout"
        }
      ]
    },
    {
      "cell_type": "code",
      "metadata": {
        "colab_type": "code",
        "id": "S3LyjoZPKnXd",
        "colab": {}
      },
      "source": [
        "# if you observe the input shape its 2 dimensional vector\n",
        "# for each image we have a (28*28) vector\n",
        "# we will convert the (28*28) vector into single dimensional vector of 1 * 784 \n",
        "\n",
        "X_train = X_train.reshape(X_train.shape[0], X_train.shape[1]*X_train.shape[2]) \n",
        "X_test = X_test.reshape(X_test.shape[0], X_test.shape[1]*X_test.shape[2]) "
      ],
      "execution_count": 0,
      "outputs": []
    },
    {
      "cell_type": "code",
      "metadata": {
        "colab_type": "code",
        "outputId": "39d257be-9fb3-4489-dccd-1beae5e72898",
        "id": "42uBRF9cKnXj",
        "colab": {
          "base_uri": "https://localhost:8080/",
          "height": 51
        }
      },
      "source": [
        "# after converting the input images from 3d to 2d vectors\n",
        "\n",
        "print(\"Number of training examples :\", X_train.shape[0], \"and each image is of shape (%d)\"%(X_train.shape[1]))\n",
        "print(\"Number of testing examples :\", X_test.shape[0], \"and each image is of shape (%d)\"%(X_test.shape[1]))"
      ],
      "execution_count": 6,
      "outputs": [
        {
          "output_type": "stream",
          "text": [
            "Number of training examples : 60000 and each image is of shape (784)\n",
            "Number of testing examples : 10000 and each image is of shape (784)\n"
          ],
          "name": "stdout"
        }
      ]
    },
    {
      "cell_type": "code",
      "metadata": {
        "colab_type": "code",
        "outputId": "11b38cab-f308-47bf-edea-57a972fd2ad7",
        "id": "P0P3s8YwKnXw",
        "colab": {
          "base_uri": "https://localhost:8080/",
          "height": 765
        }
      },
      "source": [
        "# An example data point\n",
        "print(X_train[0])"
      ],
      "execution_count": 7,
      "outputs": [
        {
          "output_type": "stream",
          "text": [
            "[  0   0   0   0   0   0   0   0   0   0   0   0   0   0   0   0   0   0\n",
            "   0   0   0   0   0   0   0   0   0   0   0   0   0   0   0   0   0   0\n",
            "   0   0   0   0   0   0   0   0   0   0   0   0   0   0   0   0   0   0\n",
            "   0   0   0   0   0   0   0   0   0   0   0   0   0   0   0   0   0   0\n",
            "   0   0   0   0   0   0   0   0   0   0   0   0   0   0   0   0   0   0\n",
            "   0   0   0   0   0   0   0   0   0   0   0   0   0   0   0   0   0   0\n",
            "   0   0   0   0   0   0   0   0   0   0   0   0   0   0   0   0   0   0\n",
            "   0   0   0   0   0   0   0   0   0   0   0   0   0   0   0   0   0   0\n",
            "   0   0   0   0   0   0   0   0   3  18  18  18 126 136 175  26 166 255\n",
            " 247 127   0   0   0   0   0   0   0   0   0   0   0   0  30  36  94 154\n",
            " 170 253 253 253 253 253 225 172 253 242 195  64   0   0   0   0   0   0\n",
            "   0   0   0   0   0  49 238 253 253 253 253 253 253 253 253 251  93  82\n",
            "  82  56  39   0   0   0   0   0   0   0   0   0   0   0   0  18 219 253\n",
            " 253 253 253 253 198 182 247 241   0   0   0   0   0   0   0   0   0   0\n",
            "   0   0   0   0   0   0   0   0  80 156 107 253 253 205  11   0  43 154\n",
            "   0   0   0   0   0   0   0   0   0   0   0   0   0   0   0   0   0   0\n",
            "   0  14   1 154 253  90   0   0   0   0   0   0   0   0   0   0   0   0\n",
            "   0   0   0   0   0   0   0   0   0   0   0   0   0 139 253 190   2   0\n",
            "   0   0   0   0   0   0   0   0   0   0   0   0   0   0   0   0   0   0\n",
            "   0   0   0   0   0  11 190 253  70   0   0   0   0   0   0   0   0   0\n",
            "   0   0   0   0   0   0   0   0   0   0   0   0   0   0   0   0  35 241\n",
            " 225 160 108   1   0   0   0   0   0   0   0   0   0   0   0   0   0   0\n",
            "   0   0   0   0   0   0   0   0   0  81 240 253 253 119  25   0   0   0\n",
            "   0   0   0   0   0   0   0   0   0   0   0   0   0   0   0   0   0   0\n",
            "   0   0  45 186 253 253 150  27   0   0   0   0   0   0   0   0   0   0\n",
            "   0   0   0   0   0   0   0   0   0   0   0   0   0  16  93 252 253 187\n",
            "   0   0   0   0   0   0   0   0   0   0   0   0   0   0   0   0   0   0\n",
            "   0   0   0   0   0   0   0 249 253 249  64   0   0   0   0   0   0   0\n",
            "   0   0   0   0   0   0   0   0   0   0   0   0   0   0  46 130 183 253\n",
            " 253 207   2   0   0   0   0   0   0   0   0   0   0   0   0   0   0   0\n",
            "   0   0   0   0  39 148 229 253 253 253 250 182   0   0   0   0   0   0\n",
            "   0   0   0   0   0   0   0   0   0   0   0   0  24 114 221 253 253 253\n",
            " 253 201  78   0   0   0   0   0   0   0   0   0   0   0   0   0   0   0\n",
            "   0   0  23  66 213 253 253 253 253 198  81   2   0   0   0   0   0   0\n",
            "   0   0   0   0   0   0   0   0   0   0  18 171 219 253 253 253 253 195\n",
            "  80   9   0   0   0   0   0   0   0   0   0   0   0   0   0   0   0   0\n",
            "  55 172 226 253 253 253 253 244 133  11   0   0   0   0   0   0   0   0\n",
            "   0   0   0   0   0   0   0   0   0   0 136 253 253 253 212 135 132  16\n",
            "   0   0   0   0   0   0   0   0   0   0   0   0   0   0   0   0   0   0\n",
            "   0   0   0   0   0   0   0   0   0   0   0   0   0   0   0   0   0   0\n",
            "   0   0   0   0   0   0   0   0   0   0   0   0   0   0   0   0   0   0\n",
            "   0   0   0   0   0   0   0   0   0   0   0   0   0   0   0   0   0   0\n",
            "   0   0   0   0   0   0   0   0   0   0   0   0   0   0   0   0   0   0\n",
            "   0   0   0   0   0   0   0   0   0   0]\n"
          ],
          "name": "stdout"
        }
      ]
    },
    {
      "cell_type": "code",
      "metadata": {
        "colab_type": "code",
        "id": "QJoKEKWYKnX9",
        "colab": {}
      },
      "source": [
        "# if we observe the above matrix each cell is having a value between 0-255\n",
        "# before we move to apply machine learning algorithms lets try to normalize the data\n",
        "# X => (X - Xmin)/(Xmax-Xmin) = X/255\n",
        "\n",
        "X_train = X_train/255\n",
        "X_test = X_test/255"
      ],
      "execution_count": 0,
      "outputs": []
    },
    {
      "cell_type": "code",
      "metadata": {
        "colab_type": "code",
        "outputId": "7ca0394e-2aa6-49b5-bd02-bcf3f0cfe296",
        "id": "47tf6snlKnYC",
        "colab": {
          "base_uri": "https://localhost:8080/",
          "height": 1000
        }
      },
      "source": [
        "# example data point after normlizing\n",
        "print(X_train[0])"
      ],
      "execution_count": 9,
      "outputs": [
        {
          "output_type": "stream",
          "text": [
            "[0.         0.         0.         0.         0.         0.\n",
            " 0.         0.         0.         0.         0.         0.\n",
            " 0.         0.         0.         0.         0.         0.\n",
            " 0.         0.         0.         0.         0.         0.\n",
            " 0.         0.         0.         0.         0.         0.\n",
            " 0.         0.         0.         0.         0.         0.\n",
            " 0.         0.         0.         0.         0.         0.\n",
            " 0.         0.         0.         0.         0.         0.\n",
            " 0.         0.         0.         0.         0.         0.\n",
            " 0.         0.         0.         0.         0.         0.\n",
            " 0.         0.         0.         0.         0.         0.\n",
            " 0.         0.         0.         0.         0.         0.\n",
            " 0.         0.         0.         0.         0.         0.\n",
            " 0.         0.         0.         0.         0.         0.\n",
            " 0.         0.         0.         0.         0.         0.\n",
            " 0.         0.         0.         0.         0.         0.\n",
            " 0.         0.         0.         0.         0.         0.\n",
            " 0.         0.         0.         0.         0.         0.\n",
            " 0.         0.         0.         0.         0.         0.\n",
            " 0.         0.         0.         0.         0.         0.\n",
            " 0.         0.         0.         0.         0.         0.\n",
            " 0.         0.         0.         0.         0.         0.\n",
            " 0.         0.         0.         0.         0.         0.\n",
            " 0.         0.         0.         0.         0.         0.\n",
            " 0.         0.         0.         0.         0.         0.\n",
            " 0.         0.         0.01176471 0.07058824 0.07058824 0.07058824\n",
            " 0.49411765 0.53333333 0.68627451 0.10196078 0.65098039 1.\n",
            " 0.96862745 0.49803922 0.         0.         0.         0.\n",
            " 0.         0.         0.         0.         0.         0.\n",
            " 0.         0.         0.11764706 0.14117647 0.36862745 0.60392157\n",
            " 0.66666667 0.99215686 0.99215686 0.99215686 0.99215686 0.99215686\n",
            " 0.88235294 0.6745098  0.99215686 0.94901961 0.76470588 0.25098039\n",
            " 0.         0.         0.         0.         0.         0.\n",
            " 0.         0.         0.         0.         0.         0.19215686\n",
            " 0.93333333 0.99215686 0.99215686 0.99215686 0.99215686 0.99215686\n",
            " 0.99215686 0.99215686 0.99215686 0.98431373 0.36470588 0.32156863\n",
            " 0.32156863 0.21960784 0.15294118 0.         0.         0.\n",
            " 0.         0.         0.         0.         0.         0.\n",
            " 0.         0.         0.         0.07058824 0.85882353 0.99215686\n",
            " 0.99215686 0.99215686 0.99215686 0.99215686 0.77647059 0.71372549\n",
            " 0.96862745 0.94509804 0.         0.         0.         0.\n",
            " 0.         0.         0.         0.         0.         0.\n",
            " 0.         0.         0.         0.         0.         0.\n",
            " 0.         0.         0.31372549 0.61176471 0.41960784 0.99215686\n",
            " 0.99215686 0.80392157 0.04313725 0.         0.16862745 0.60392157\n",
            " 0.         0.         0.         0.         0.         0.\n",
            " 0.         0.         0.         0.         0.         0.\n",
            " 0.         0.         0.         0.         0.         0.\n",
            " 0.         0.05490196 0.00392157 0.60392157 0.99215686 0.35294118\n",
            " 0.         0.         0.         0.         0.         0.\n",
            " 0.         0.         0.         0.         0.         0.\n",
            " 0.         0.         0.         0.         0.         0.\n",
            " 0.         0.         0.         0.         0.         0.\n",
            " 0.         0.54509804 0.99215686 0.74509804 0.00784314 0.\n",
            " 0.         0.         0.         0.         0.         0.\n",
            " 0.         0.         0.         0.         0.         0.\n",
            " 0.         0.         0.         0.         0.         0.\n",
            " 0.         0.         0.         0.         0.         0.04313725\n",
            " 0.74509804 0.99215686 0.2745098  0.         0.         0.\n",
            " 0.         0.         0.         0.         0.         0.\n",
            " 0.         0.         0.         0.         0.         0.\n",
            " 0.         0.         0.         0.         0.         0.\n",
            " 0.         0.         0.         0.         0.1372549  0.94509804\n",
            " 0.88235294 0.62745098 0.42352941 0.00392157 0.         0.\n",
            " 0.         0.         0.         0.         0.         0.\n",
            " 0.         0.         0.         0.         0.         0.\n",
            " 0.         0.         0.         0.         0.         0.\n",
            " 0.         0.         0.         0.31764706 0.94117647 0.99215686\n",
            " 0.99215686 0.46666667 0.09803922 0.         0.         0.\n",
            " 0.         0.         0.         0.         0.         0.\n",
            " 0.         0.         0.         0.         0.         0.\n",
            " 0.         0.         0.         0.         0.         0.\n",
            " 0.         0.         0.17647059 0.72941176 0.99215686 0.99215686\n",
            " 0.58823529 0.10588235 0.         0.         0.         0.\n",
            " 0.         0.         0.         0.         0.         0.\n",
            " 0.         0.         0.         0.         0.         0.\n",
            " 0.         0.         0.         0.         0.         0.\n",
            " 0.         0.0627451  0.36470588 0.98823529 0.99215686 0.73333333\n",
            " 0.         0.         0.         0.         0.         0.\n",
            " 0.         0.         0.         0.         0.         0.\n",
            " 0.         0.         0.         0.         0.         0.\n",
            " 0.         0.         0.         0.         0.         0.\n",
            " 0.         0.97647059 0.99215686 0.97647059 0.25098039 0.\n",
            " 0.         0.         0.         0.         0.         0.\n",
            " 0.         0.         0.         0.         0.         0.\n",
            " 0.         0.         0.         0.         0.         0.\n",
            " 0.         0.         0.18039216 0.50980392 0.71764706 0.99215686\n",
            " 0.99215686 0.81176471 0.00784314 0.         0.         0.\n",
            " 0.         0.         0.         0.         0.         0.\n",
            " 0.         0.         0.         0.         0.         0.\n",
            " 0.         0.         0.         0.         0.15294118 0.58039216\n",
            " 0.89803922 0.99215686 0.99215686 0.99215686 0.98039216 0.71372549\n",
            " 0.         0.         0.         0.         0.         0.\n",
            " 0.         0.         0.         0.         0.         0.\n",
            " 0.         0.         0.         0.         0.         0.\n",
            " 0.09411765 0.44705882 0.86666667 0.99215686 0.99215686 0.99215686\n",
            " 0.99215686 0.78823529 0.30588235 0.         0.         0.\n",
            " 0.         0.         0.         0.         0.         0.\n",
            " 0.         0.         0.         0.         0.         0.\n",
            " 0.         0.         0.09019608 0.25882353 0.83529412 0.99215686\n",
            " 0.99215686 0.99215686 0.99215686 0.77647059 0.31764706 0.00784314\n",
            " 0.         0.         0.         0.         0.         0.\n",
            " 0.         0.         0.         0.         0.         0.\n",
            " 0.         0.         0.         0.         0.07058824 0.67058824\n",
            " 0.85882353 0.99215686 0.99215686 0.99215686 0.99215686 0.76470588\n",
            " 0.31372549 0.03529412 0.         0.         0.         0.\n",
            " 0.         0.         0.         0.         0.         0.\n",
            " 0.         0.         0.         0.         0.         0.\n",
            " 0.21568627 0.6745098  0.88627451 0.99215686 0.99215686 0.99215686\n",
            " 0.99215686 0.95686275 0.52156863 0.04313725 0.         0.\n",
            " 0.         0.         0.         0.         0.         0.\n",
            " 0.         0.         0.         0.         0.         0.\n",
            " 0.         0.         0.         0.         0.53333333 0.99215686\n",
            " 0.99215686 0.99215686 0.83137255 0.52941176 0.51764706 0.0627451\n",
            " 0.         0.         0.         0.         0.         0.\n",
            " 0.         0.         0.         0.         0.         0.\n",
            " 0.         0.         0.         0.         0.         0.\n",
            " 0.         0.         0.         0.         0.         0.\n",
            " 0.         0.         0.         0.         0.         0.\n",
            " 0.         0.         0.         0.         0.         0.\n",
            " 0.         0.         0.         0.         0.         0.\n",
            " 0.         0.         0.         0.         0.         0.\n",
            " 0.         0.         0.         0.         0.         0.\n",
            " 0.         0.         0.         0.         0.         0.\n",
            " 0.         0.         0.         0.         0.         0.\n",
            " 0.         0.         0.         0.         0.         0.\n",
            " 0.         0.         0.         0.         0.         0.\n",
            " 0.         0.         0.         0.         0.         0.\n",
            " 0.         0.         0.         0.         0.         0.\n",
            " 0.         0.         0.         0.         0.         0.\n",
            " 0.         0.         0.         0.        ]\n"
          ],
          "name": "stdout"
        }
      ]
    },
    {
      "cell_type": "code",
      "metadata": {
        "colab_type": "code",
        "outputId": "2e043c9d-cb4d-4449-c06e-f5e875a4b022",
        "id": "KnexmfFIKnYI",
        "colab": {
          "base_uri": "https://localhost:8080/",
          "height": 51
        }
      },
      "source": [
        "# here we are having a class number for each image\n",
        "print(\"Class label of first image :\", y_train[0])\n",
        "\n",
        "# lets convert this into a 10 dimensional vector\n",
        "# ex: consider an image is 5 convert it into 5 => [0, 0, 0, 0, 0, 1, 0, 0, 0, 0]\n",
        "# this conversion needed for MLPs \n",
        "\n",
        "Y_train = np_utils.to_categorical(y_train, 10) \n",
        "Y_test = np_utils.to_categorical(y_test, 10)\n",
        "\n",
        "print(\"After converting the output into a vector : \",Y_train[0])"
      ],
      "execution_count": 10,
      "outputs": [
        {
          "output_type": "stream",
          "text": [
            "Class label of first image : 5\n",
            "After converting the output into a vector :  [0. 0. 0. 0. 0. 1. 0. 0. 0. 0.]\n"
          ],
          "name": "stdout"
        }
      ]
    },
    {
      "cell_type": "code",
      "metadata": {
        "colab_type": "code",
        "id": "bE_sawZJKnYr",
        "colab": {}
      },
      "source": [
        "# some model parameters\n",
        "\n",
        "output_dim = 10\n",
        "input_dim = X_train.shape[1]\n",
        "\n",
        "batch_size = 128 \n",
        "nb_epoch = 20"
      ],
      "execution_count": 0,
      "outputs": []
    },
    {
      "cell_type": "markdown",
      "metadata": {
        "colab_type": "text",
        "id": "g87mcM9eKnbi"
      },
      "source": [
        "# <h2> MLP + Dropout + AdamOptimizer </h2>"
      ]
    },
    {
      "cell_type": "markdown",
      "metadata": {
        "id": "DwnzeX15RTtW",
        "colab_type": "text"
      },
      "source": [
        "<h3> 1.Two hidden layers </h3>"
      ]
    },
    {
      "cell_type": "code",
      "metadata": {
        "colab_type": "code",
        "outputId": "e5b8e04c-3845-4ac9-eeb3-5f571e8255cf",
        "id": "ylElrfK5Knbj",
        "colab": {
          "base_uri": "https://localhost:8080/",
          "height": 632
        }
      },
      "source": [
        "# https://stackoverflow.com/questions/34716454/where-do-i-call-the-batchnormalization-function-in-keras\n",
        "\n",
        "from keras.models import Sequential \n",
        "from keras.layers import Dense, Activation \n",
        "\n",
        "from keras.layers import Dropout\n",
        "from keras.layers.normalization import BatchNormalization\n",
        "\n",
        "model = Sequential()\n",
        "\n",
        "model.add(Dense(435, activation='relu', input_shape=(input_dim,), kernel_initializer=RandomNormal(mean=0.0, stddev=0.062, seed=None)))\n",
        "model.add(BatchNormalization())\n",
        "model.add(Dropout(0.5))\n",
        "\n",
        "model.add(Dense(156, activation='relu', kernel_initializer=RandomNormal(mean=0.0, stddev=0.125, seed=None)) )\n",
        "model.add(BatchNormalization())\n",
        "model.add(Dropout(0.5))\n",
        "\n",
        "model.add(Dense(output_dim, activation='softmax'))\n",
        "\n",
        "\n",
        "model.summary()"
      ],
      "execution_count": 12,
      "outputs": [
        {
          "output_type": "stream",
          "text": [
            "WARNING: Logging before flag parsing goes to stderr.\n",
            "W0825 20:34:50.848045 140160636204928 deprecation_wrapper.py:119] From /usr/local/lib/python3.6/dist-packages/keras/backend/tensorflow_backend.py:74: The name tf.get_default_graph is deprecated. Please use tf.compat.v1.get_default_graph instead.\n",
            "\n",
            "W0825 20:34:50.882638 140160636204928 deprecation_wrapper.py:119] From /usr/local/lib/python3.6/dist-packages/keras/backend/tensorflow_backend.py:517: The name tf.placeholder is deprecated. Please use tf.compat.v1.placeholder instead.\n",
            "\n",
            "W0825 20:34:50.890069 140160636204928 deprecation_wrapper.py:119] From /usr/local/lib/python3.6/dist-packages/keras/backend/tensorflow_backend.py:4115: The name tf.random_normal is deprecated. Please use tf.random.normal instead.\n",
            "\n",
            "W0825 20:34:50.998440 140160636204928 deprecation_wrapper.py:119] From /usr/local/lib/python3.6/dist-packages/keras/backend/tensorflow_backend.py:133: The name tf.placeholder_with_default is deprecated. Please use tf.compat.v1.placeholder_with_default instead.\n",
            "\n",
            "W0825 20:34:51.022265 140160636204928 deprecation.py:506] From /usr/local/lib/python3.6/dist-packages/keras/backend/tensorflow_backend.py:3445: calling dropout (from tensorflow.python.ops.nn_ops) with keep_prob is deprecated and will be removed in a future version.\n",
            "Instructions for updating:\n",
            "Please use `rate` instead of `keep_prob`. Rate should be set to `rate = 1 - keep_prob`.\n",
            "W0825 20:34:51.133279 140160636204928 deprecation_wrapper.py:119] From /usr/local/lib/python3.6/dist-packages/keras/backend/tensorflow_backend.py:4138: The name tf.random_uniform is deprecated. Please use tf.random.uniform instead.\n",
            "\n"
          ],
          "name": "stderr"
        },
        {
          "output_type": "stream",
          "text": [
            "_________________________________________________________________\n",
            "Layer (type)                 Output Shape              Param #   \n",
            "=================================================================\n",
            "dense_1 (Dense)              (None, 435)               341475    \n",
            "_________________________________________________________________\n",
            "batch_normalization_1 (Batch (None, 435)               1740      \n",
            "_________________________________________________________________\n",
            "dropout_1 (Dropout)          (None, 435)               0         \n",
            "_________________________________________________________________\n",
            "dense_2 (Dense)              (None, 156)               68016     \n",
            "_________________________________________________________________\n",
            "batch_normalization_2 (Batch (None, 156)               624       \n",
            "_________________________________________________________________\n",
            "dropout_2 (Dropout)          (None, 156)               0         \n",
            "_________________________________________________________________\n",
            "dense_3 (Dense)              (None, 10)                1570      \n",
            "=================================================================\n",
            "Total params: 413,425\n",
            "Trainable params: 412,243\n",
            "Non-trainable params: 1,182\n",
            "_________________________________________________________________\n"
          ],
          "name": "stdout"
        }
      ]
    },
    {
      "cell_type": "code",
      "metadata": {
        "colab_type": "code",
        "outputId": "4e3f74c4-0f93-4c81-aad0-8066febee90b",
        "id": "fMXzQK5iKnbl",
        "colab": {
          "base_uri": "https://localhost:8080/",
          "height": 819
        }
      },
      "source": [
        "model.compile(optimizer='adam', loss='categorical_crossentropy', metrics=['accuracy'])\n",
        "\n",
        "history = model.fit(X_train, Y_train, batch_size=batch_size, epochs=nb_epoch, verbose=1, validation_data=(X_test, Y_test))"
      ],
      "execution_count": 13,
      "outputs": [
        {
          "output_type": "stream",
          "text": [
            "W0825 20:34:56.736942 140160636204928 deprecation_wrapper.py:119] From /usr/local/lib/python3.6/dist-packages/keras/optimizers.py:790: The name tf.train.Optimizer is deprecated. Please use tf.compat.v1.train.Optimizer instead.\n",
            "\n",
            "W0825 20:34:56.864316 140160636204928 deprecation.py:323] From /usr/local/lib/python3.6/dist-packages/tensorflow/python/ops/math_grad.py:1250: add_dispatch_support.<locals>.wrapper (from tensorflow.python.ops.array_ops) is deprecated and will be removed in a future version.\n",
            "Instructions for updating:\n",
            "Use tf.where in 2.0, which has the same broadcast rule as np.where\n"
          ],
          "name": "stderr"
        },
        {
          "output_type": "stream",
          "text": [
            "Train on 60000 samples, validate on 10000 samples\n",
            "Epoch 1/20\n",
            "60000/60000 [==============================] - 8s 135us/step - loss: 0.5083 - acc: 0.8449 - val_loss: 0.1680 - val_acc: 0.9472\n",
            "Epoch 2/20\n",
            "60000/60000 [==============================] - 7s 118us/step - loss: 0.2395 - acc: 0.9288 - val_loss: 0.1190 - val_acc: 0.9637\n",
            "Epoch 3/20\n",
            "60000/60000 [==============================] - 7s 114us/step - loss: 0.1836 - acc: 0.9455 - val_loss: 0.1006 - val_acc: 0.9691\n",
            "Epoch 4/20\n",
            "60000/60000 [==============================] - 7s 115us/step - loss: 0.1547 - acc: 0.9538 - val_loss: 0.0889 - val_acc: 0.9711\n",
            "Epoch 5/20\n",
            "60000/60000 [==============================] - 7s 114us/step - loss: 0.1381 - acc: 0.9583 - val_loss: 0.0794 - val_acc: 0.9751\n",
            "Epoch 6/20\n",
            "60000/60000 [==============================] - 7s 114us/step - loss: 0.1196 - acc: 0.9635 - val_loss: 0.0811 - val_acc: 0.9760\n",
            "Epoch 7/20\n",
            "60000/60000 [==============================] - 7s 117us/step - loss: 0.1133 - acc: 0.9648 - val_loss: 0.0718 - val_acc: 0.9776\n",
            "Epoch 8/20\n",
            "60000/60000 [==============================] - 7s 116us/step - loss: 0.1042 - acc: 0.9683 - val_loss: 0.0697 - val_acc: 0.9781\n",
            "Epoch 9/20\n",
            "60000/60000 [==============================] - 7s 116us/step - loss: 0.0970 - acc: 0.9705 - val_loss: 0.0688 - val_acc: 0.9793\n",
            "Epoch 10/20\n",
            "60000/60000 [==============================] - 7s 117us/step - loss: 0.0894 - acc: 0.9723 - val_loss: 0.0640 - val_acc: 0.9796\n",
            "Epoch 11/20\n",
            "60000/60000 [==============================] - 7s 112us/step - loss: 0.0855 - acc: 0.9734 - val_loss: 0.0625 - val_acc: 0.9805\n",
            "Epoch 12/20\n",
            "60000/60000 [==============================] - 7s 115us/step - loss: 0.0813 - acc: 0.9744 - val_loss: 0.0605 - val_acc: 0.9804\n",
            "Epoch 13/20\n",
            "60000/60000 [==============================] - 7s 115us/step - loss: 0.0765 - acc: 0.9762 - val_loss: 0.0594 - val_acc: 0.9817\n",
            "Epoch 14/20\n",
            "60000/60000 [==============================] - 7s 114us/step - loss: 0.0712 - acc: 0.9775 - val_loss: 0.0620 - val_acc: 0.9815\n",
            "Epoch 15/20\n",
            "60000/60000 [==============================] - 7s 116us/step - loss: 0.0713 - acc: 0.9774 - val_loss: 0.0605 - val_acc: 0.9811\n",
            "Epoch 16/20\n",
            "60000/60000 [==============================] - 7s 114us/step - loss: 0.0677 - acc: 0.9786 - val_loss: 0.0576 - val_acc: 0.9837\n",
            "Epoch 17/20\n",
            "60000/60000 [==============================] - 7s 114us/step - loss: 0.0654 - acc: 0.9790 - val_loss: 0.0623 - val_acc: 0.9819\n",
            "Epoch 18/20\n",
            "60000/60000 [==============================] - 7s 116us/step - loss: 0.0604 - acc: 0.9811 - val_loss: 0.0612 - val_acc: 0.9822\n",
            "Epoch 19/20\n",
            "60000/60000 [==============================] - 7s 114us/step - loss: 0.0605 - acc: 0.9800 - val_loss: 0.0555 - val_acc: 0.9831\n",
            "Epoch 20/20\n",
            "60000/60000 [==============================] - 7s 117us/step - loss: 0.0577 - acc: 0.9816 - val_loss: 0.0546 - val_acc: 0.9833\n"
          ],
          "name": "stdout"
        }
      ]
    },
    {
      "cell_type": "code",
      "metadata": {
        "colab_type": "code",
        "outputId": "e820c1f0-9cf8-4138-d735-bab1906fe690",
        "id": "OtskakV2Knbo",
        "colab": {
          "base_uri": "https://localhost:8080/",
          "height": 317
        }
      },
      "source": [
        "score = model.evaluate(X_test, Y_test, verbose=0) \n",
        "print('Test score:', score[0]) \n",
        "print('Test accuracy:', score[1])\n",
        "\n",
        "fig,ax = plt.subplots(1,1)\n",
        "ax.set_xlabel('epoch') ; ax.set_ylabel('Categorical Crossentropy Loss')\n",
        "\n",
        "# list of epoch numbers\n",
        "x = list(range(1,nb_epoch+1))\n",
        "\n",
        "# val_loss : validation loss\n",
        "# val_acc : validation accuracy\n",
        "\n",
        "# loss : training loss\n",
        "# acc : train accuracy\n",
        "\n",
        "vy = history.history['val_loss']\n",
        "ty = history.history['loss']\n",
        "plt_dynamic(x, vy, ty, ax)"
      ],
      "execution_count": 14,
      "outputs": [
        {
          "output_type": "stream",
          "text": [
            "Test score: 0.054573897721024694\n",
            "Test accuracy: 0.9833\n"
          ],
          "name": "stdout"
        },
        {
          "output_type": "display_data",
          "data": {
            "image/png": "[encoded data removed]",
            "text/plain": [
              "<Figure size 432x288 with 1 Axes>"
            ]
          },
          "metadata": {
            "tags": []
          }
        }
      ]
    },
    {
      "cell_type": "code",
      "metadata": {
        "id": "oA9z73UafVmO",
        "colab_type": "code",
        "colab": {
          "base_uri": "https://localhost:8080/",
          "height": 285
        },
        "outputId": "fa753731-d983-4e23-d281-22002fdf2a6f"
      },
      "source": [
        "w_after = model.get_weights()\n",
        "\n",
        "h1_w = w_after[0].flatten().reshape(-1,1)\n",
        "h2_w = w_after[2].flatten().reshape(-1,1)\n",
        "out_w = w_after[4].flatten().reshape(-1,1)\n",
        "\n",
        "\n",
        "fig = plt.figure()\n",
        "plt.title(\"Weight matrices after model trained\")\n",
        "plt.subplot(1, 3, 1)\n",
        "plt.title(\"Trained model Weights\")\n",
        "ax = sns.violinplot(y=h1_w,color='b')\n",
        "plt.xlabel('Hidden Layer 1')\n",
        "\n",
        "plt.subplot(1, 3, 2)\n",
        "plt.title(\"Trained model Weights\")\n",
        "ax = sns.violinplot(y=h2_w, color='r')\n",
        "plt.xlabel('Hidden Layer 2 ')\n",
        "\n",
        "plt.subplot(1, 3, 3)\n",
        "plt.title(\"Trained model Weights\")\n",
        "ax = sns.violinplot(y=out_w,color='y')\n",
        "plt.xlabel('Output Layer ')\n",
        "plt.show()"
      ],
      "execution_count": 15,
      "outputs": [
        {
          "output_type": "display_data",
          "data": {
            "image/png": "[encoded data removed]",
            "text/plain": [
              "<Figure size 432x288 with 3 Axes>"
            ]
          },
          "metadata": {
            "tags": []
          }
        }
      ]
    },
    {
      "cell_type": "markdown",
      "metadata": {
        "colab_type": "text",
        "id": "feq0YRepXkfZ"
      },
      "source": [
        "<h3> 2.Three hidden layers </h3>"
      ]
    },
    {
      "cell_type": "code",
      "metadata": {
        "colab_type": "code",
        "outputId": "6136aba7-9187-45c6-d5ff-b8aa4ec42641",
        "id": "z2MVo8g3Xkfc",
        "colab": {
          "base_uri": "https://localhost:8080/",
          "height": 476
        }
      },
      "source": [
        "# https://stackoverflow.com/questions/34716454/where-do-i-call-the-batchnormalization-function-in-keras\n",
        "\n",
        "from keras.models import Sequential \n",
        "from keras.layers import Dense, Activation \n",
        "\n",
        "from keras.layers import Dropout\n",
        "from keras.layers.normalization import BatchNormalization\n",
        "\n",
        "model = Sequential()\n",
        "\n",
        "model.add(Dense(506, activation='relu', input_shape=(input_dim,), kernel_initializer=RandomNormal(mean=0.0, stddev=0.062, seed=None)))\n",
        "model.add(BatchNormalization())\n",
        "model.add(Dropout(0.5))\n",
        "\n",
        "model.add(Dense(290, activation='relu', kernel_initializer=RandomNormal(mean=0.0, stddev=0.125, seed=None)) )\n",
        "model.add(BatchNormalization())\n",
        "model.add(Dropout(0.5))\n",
        "\n",
        "model.add(Dense(130, activation='relu', kernel_initializer=RandomNormal(mean=0.0, stddev=0.225, seed=None)) )\n",
        "model.add(BatchNormalization())\n",
        "model.add(Dropout(0.5))\n",
        "\n",
        "model.add(Dense(output_dim, activation='softmax'))\n",
        "\n",
        "\n",
        "model.summary()"
      ],
      "execution_count": 16,
      "outputs": [
        {
          "output_type": "stream",
          "text": [
            "_________________________________________________________________\n",
            "Layer (type)                 Output Shape              Param #   \n",
            "=================================================================\n",
            "dense_4 (Dense)              (None, 506)               397210    \n",
            "_________________________________________________________________\n",
            "batch_normalization_3 (Batch (None, 506)               2024      \n",
            "_________________________________________________________________\n",
            "dropout_3 (Dropout)          (None, 506)               0         \n",
            "_________________________________________________________________\n",
            "dense_5 (Dense)              (None, 290)               147030    \n",
            "_________________________________________________________________\n",
            "batch_normalization_4 (Batch (None, 290)               1160      \n",
            "_________________________________________________________________\n",
            "dropout_4 (Dropout)          (None, 290)               0         \n",
            "_________________________________________________________________\n",
            "dense_6 (Dense)              (None, 130)               37830     \n",
            "_________________________________________________________________\n",
            "batch_normalization_5 (Batch (None, 130)               520       \n",
            "_________________________________________________________________\n",
            "dropout_5 (Dropout)          (None, 130)               0         \n",
            "_________________________________________________________________\n",
            "dense_7 (Dense)              (None, 10)                1310      \n",
            "=================================================================\n",
            "Total params: 587,084\n",
            "Trainable params: 585,232\n",
            "Non-trainable params: 1,852\n",
            "_________________________________________________________________\n"
          ],
          "name": "stdout"
        }
      ]
    },
    {
      "cell_type": "code",
      "metadata": {
        "colab_type": "code",
        "outputId": "4bf89cbe-98ae-43fc-8f5e-a99b4e8542fd",
        "id": "mFTSABfbXkfh",
        "colab": {
          "base_uri": "https://localhost:8080/",
          "height": 714
        }
      },
      "source": [
        "model.compile(optimizer='adam', loss='categorical_crossentropy', metrics=['accuracy'])\n",
        "\n",
        "history = model.fit(X_train, Y_train, batch_size=batch_size, epochs=nb_epoch, verbose=1, validation_data=(X_test, Y_test))"
      ],
      "execution_count": 17,
      "outputs": [
        {
          "output_type": "stream",
          "text": [
            "Train on 60000 samples, validate on 10000 samples\n",
            "Epoch 1/20\n",
            "60000/60000 [==============================] - 11s 187us/step - loss: 0.6955 - acc: 0.7879 - val_loss: 0.1848 - val_acc: 0.9435\n",
            "Epoch 2/20\n",
            "60000/60000 [==============================] - 10s 173us/step - loss: 0.2897 - acc: 0.9132 - val_loss: 0.1380 - val_acc: 0.9575\n",
            "Epoch 3/20\n",
            "60000/60000 [==============================] - 10s 173us/step - loss: 0.2240 - acc: 0.9340 - val_loss: 0.1143 - val_acc: 0.9631\n",
            "Epoch 4/20\n",
            "60000/60000 [==============================] - 10s 173us/step - loss: 0.1812 - acc: 0.9461 - val_loss: 0.0989 - val_acc: 0.9703\n",
            "Epoch 5/20\n",
            "60000/60000 [==============================] - 10s 171us/step - loss: 0.1579 - acc: 0.9534 - val_loss: 0.0930 - val_acc: 0.9713\n",
            "Epoch 6/20\n",
            "60000/60000 [==============================] - 10s 174us/step - loss: 0.1461 - acc: 0.9569 - val_loss: 0.0841 - val_acc: 0.9743\n",
            "Epoch 7/20\n",
            "60000/60000 [==============================] - 10s 170us/step - loss: 0.1338 - acc: 0.9596 - val_loss: 0.0855 - val_acc: 0.9748\n",
            "Epoch 8/20\n",
            "60000/60000 [==============================] - 10s 172us/step - loss: 0.1180 - acc: 0.9652 - val_loss: 0.0788 - val_acc: 0.9774\n",
            "Epoch 9/20\n",
            "60000/60000 [==============================] - 10s 172us/step - loss: 0.1122 - acc: 0.9654 - val_loss: 0.0796 - val_acc: 0.9772\n",
            "Epoch 10/20\n",
            "60000/60000 [==============================] - 10s 170us/step - loss: 0.1032 - acc: 0.9699 - val_loss: 0.0768 - val_acc: 0.9785\n",
            "Epoch 11/20\n",
            "60000/60000 [==============================] - 10s 173us/step - loss: 0.0964 - acc: 0.9705 - val_loss: 0.0683 - val_acc: 0.9800\n",
            "Epoch 12/20\n",
            "60000/60000 [==============================] - 10s 174us/step - loss: 0.0915 - acc: 0.9724 - val_loss: 0.0748 - val_acc: 0.9777\n",
            "Epoch 13/20\n",
            "60000/60000 [==============================] - 10s 173us/step - loss: 0.0845 - acc: 0.9746 - val_loss: 0.0707 - val_acc: 0.9784\n",
            "Epoch 14/20\n",
            "60000/60000 [==============================] - 10s 172us/step - loss: 0.0826 - acc: 0.9753 - val_loss: 0.0650 - val_acc: 0.9813\n",
            "Epoch 15/20\n",
            "60000/60000 [==============================] - 10s 173us/step - loss: 0.0796 - acc: 0.9755 - val_loss: 0.0671 - val_acc: 0.9815\n",
            "Epoch 16/20\n",
            "60000/60000 [==============================] - 10s 172us/step - loss: 0.0776 - acc: 0.9767 - val_loss: 0.0670 - val_acc: 0.9809\n",
            "Epoch 17/20\n",
            "60000/60000 [==============================] - 11s 175us/step - loss: 0.0771 - acc: 0.9766 - val_loss: 0.0628 - val_acc: 0.9815\n",
            "Epoch 18/20\n",
            "60000/60000 [==============================] - 10s 174us/step - loss: 0.0697 - acc: 0.9791 - val_loss: 0.0656 - val_acc: 0.9822\n",
            "Epoch 19/20\n",
            "60000/60000 [==============================] - 11s 175us/step - loss: 0.0671 - acc: 0.9801 - val_loss: 0.0645 - val_acc: 0.9828\n",
            "Epoch 20/20\n",
            "60000/60000 [==============================] - 10s 173us/step - loss: 0.0644 - acc: 0.9801 - val_loss: 0.0609 - val_acc: 0.9841\n"
          ],
          "name": "stdout"
        }
      ]
    },
    {
      "cell_type": "code",
      "metadata": {
        "colab_type": "code",
        "outputId": "5142c5a6-131f-4af2-bd58-9d384678a345",
        "id": "jNNEKNj9Xkfm",
        "colab": {
          "base_uri": "https://localhost:8080/",
          "height": 317
        }
      },
      "source": [
        "score = model.evaluate(X_test, Y_test, verbose=0) \n",
        "print('Test score:', score[0]) \n",
        "print('Test accuracy:', score[1])\n",
        "\n",
        "fig,ax = plt.subplots(1,1)\n",
        "ax.set_xlabel('epoch') ; ax.set_ylabel('Categorical Crossentropy Loss')\n",
        "\n",
        "# list of epoch numbers\n",
        "x = list(range(1,nb_epoch+1))\n",
        "\n",
        "# val_loss : validation loss\n",
        "# val_acc : validation accuracy\n",
        "\n",
        "# loss : training loss\n",
        "# acc : train accuracy\n",
        "\n",
        "vy = history.history['val_loss']\n",
        "ty = history.history['loss']\n",
        "plt_dynamic(x, vy, ty, ax)"
      ],
      "execution_count": 18,
      "outputs": [
        {
          "output_type": "stream",
          "text": [
            "Test score: 0.06090008487093437\n",
            "Test accuracy: 0.9841\n"
          ],
          "name": "stdout"
        },
        {
          "output_type": "display_data",
          "data": {
            "image/png": "[encoded data removed]",
            "text/plain": [
              "<Figure size 432x288 with 1 Axes>"
            ]
          },
          "metadata": {
            "tags": []
          }
        }
      ]
    },
    {
      "cell_type": "code",
      "metadata": {
        "id": "wnjl0vYNfj-u",
        "colab_type": "code",
        "colab": {
          "base_uri": "https://localhost:8080/",
          "height": 285
        },
        "outputId": "73fe83dd-2d36-45f0-9c38-1cf749bdff05"
      },
      "source": [
        "w_after = model.get_weights()\n",
        "\n",
        "h1_w = w_after[0].flatten().reshape(-1,1)\n",
        "h2_w = w_after[2].flatten().reshape(-1,1)\n",
        "out_w = w_after[4].flatten().reshape(-1,1)\n",
        "\n",
        "\n",
        "fig = plt.figure()\n",
        "plt.title(\"Weight matrices after model trained\")\n",
        "plt.subplot(1, 3, 1)\n",
        "plt.title(\"Trained model Weights\")\n",
        "ax = sns.violinplot(y=h1_w,color='b')\n",
        "plt.xlabel('Hidden Layer 1')\n",
        "\n",
        "plt.subplot(1, 3, 2)\n",
        "plt.title(\"Trained model Weights\")\n",
        "ax = sns.violinplot(y=h2_w, color='r')\n",
        "plt.xlabel('Hidden Layer 2 ')\n",
        "\n",
        "plt.subplot(1, 3, 3)\n",
        "plt.title(\"Trained model Weights\")\n",
        "ax = sns.violinplot(y=out_w,color='y')\n",
        "plt.xlabel('Output Layer ')\n",
        "plt.show()"
      ],
      "execution_count": 19,
      "outputs": [
        {
          "output_type": "display_data",
          "data": {
            "image/png": "[encoded data removed]",
            "text/plain": [
              "<Figure size 432x288 with 3 Axes>"
            ]
          },
          "metadata": {
            "tags": []
          }
        }
      ]
    },
    {
      "cell_type": "markdown",
      "metadata": {
        "colab_type": "text",
        "id": "xi8H4oXdXoHI"
      },
      "source": [
        "<h3> 3.Five hidden layers </h3>"
      ]
    },
    {
      "cell_type": "code",
      "metadata": {
        "colab_type": "code",
        "outputId": "b3f49724-85eb-4a74-a1ce-9c095dbeed48",
        "id": "HdQ7QkP-XoHL",
        "colab": {
          "base_uri": "https://localhost:8080/",
          "height": 680
        }
      },
      "source": [
        "model = Sequential()\n",
        "\n",
        "model.add(Dense(609, activation='relu', input_shape=(input_dim,), kernel_initializer=RandomNormal(mean=0.0, stddev=0.062, seed=None)))\n",
        "model.add(BatchNormalization())\n",
        "model.add(Dropout(0.5))\n",
        "\n",
        "model.add(Dense(510, activation='relu', kernel_initializer=RandomNormal(mean=0.0, stddev=0.125, seed=None)) )\n",
        "model.add(BatchNormalization())\n",
        "model.add(Dropout(0.5))\n",
        "\n",
        "model.add(Dense(390, activation='relu', kernel_initializer=RandomNormal(mean=0.0, stddev=0.205, seed=None)) )\n",
        "model.add(BatchNormalization())\n",
        "model.add(Dropout(0.5))\n",
        "\n",
        "model.add(Dense(270, activation='relu', kernel_initializer=RandomNormal(mean=0.0, stddev=0.285, seed=None)) )\n",
        "model.add(BatchNormalization())\n",
        "model.add(Dropout(0.5))\n",
        "\n",
        "model.add(Dense(110, activation='relu', kernel_initializer=RandomNormal(mean=0.0, stddev=0.325, seed=None)) )\n",
        "model.add(BatchNormalization())\n",
        "model.add(Dropout(0.5))\n",
        "\n",
        "model.add(Dense(output_dim, activation='softmax'))\n",
        "\n",
        "\n",
        "model.summary()"
      ],
      "execution_count": 20,
      "outputs": [
        {
          "output_type": "stream",
          "text": [
            "_________________________________________________________________\n",
            "Layer (type)                 Output Shape              Param #   \n",
            "=================================================================\n",
            "dense_8 (Dense)              (None, 609)               478065    \n",
            "_________________________________________________________________\n",
            "batch_normalization_6 (Batch (None, 609)               2436      \n",
            "_________________________________________________________________\n",
            "dropout_6 (Dropout)          (None, 609)               0         \n",
            "_________________________________________________________________\n",
            "dense_9 (Dense)              (None, 510)               311100    \n",
            "_________________________________________________________________\n",
            "batch_normalization_7 (Batch (None, 510)               2040      \n",
            "_________________________________________________________________\n",
            "dropout_7 (Dropout)          (None, 510)               0         \n",
            "_________________________________________________________________\n",
            "dense_10 (Dense)             (None, 390)               199290    \n",
            "_________________________________________________________________\n",
            "batch_normalization_8 (Batch (None, 390)               1560      \n",
            "_________________________________________________________________\n",
            "dropout_8 (Dropout)          (None, 390)               0         \n",
            "_________________________________________________________________\n",
            "dense_11 (Dense)             (None, 270)               105570    \n",
            "_________________________________________________________________\n",
            "batch_normalization_9 (Batch (None, 270)               1080      \n",
            "_________________________________________________________________\n",
            "dropout_9 (Dropout)          (None, 270)               0         \n",
            "_________________________________________________________________\n",
            "dense_12 (Dense)             (None, 110)               29810     \n",
            "_________________________________________________________________\n",
            "batch_normalization_10 (Batc (None, 110)               440       \n",
            "_________________________________________________________________\n",
            "dropout_10 (Dropout)         (None, 110)               0         \n",
            "_________________________________________________________________\n",
            "dense_13 (Dense)             (None, 10)                1110      \n",
            "=================================================================\n",
            "Total params: 1,132,501\n",
            "Trainable params: 1,128,723\n",
            "Non-trainable params: 3,778\n",
            "_________________________________________________________________\n"
          ],
          "name": "stdout"
        }
      ]
    },
    {
      "cell_type": "code",
      "metadata": {
        "colab_type": "code",
        "outputId": "1bd23e0c-fe20-45f9-a32a-53697b1961fa",
        "id": "qDegkYDQXoHT",
        "colab": {
          "base_uri": "https://localhost:8080/",
          "height": 714
        }
      },
      "source": [
        "model.compile(optimizer='adam', loss='categorical_crossentropy', metrics=['accuracy'])\n",
        "\n",
        "history = model.fit(X_train, Y_train, batch_size=batch_size, epochs=nb_epoch, verbose=1, validation_data=(X_test, Y_test))"
      ],
      "execution_count": 21,
      "outputs": [
        {
          "output_type": "stream",
          "text": [
            "Train on 60000 samples, validate on 10000 samples\n",
            "Epoch 1/20\n",
            "60000/60000 [==============================] - 21s 358us/step - loss: 1.3110 - acc: 0.5844 - val_loss: 0.3127 - val_acc: 0.9065\n",
            "Epoch 2/20\n",
            "60000/60000 [==============================] - 20s 326us/step - loss: 0.4553 - acc: 0.8648 - val_loss: 0.2066 - val_acc: 0.9399\n",
            "Epoch 3/20\n",
            "60000/60000 [==============================] - 20s 328us/step - loss: 0.3142 - acc: 0.9097 - val_loss: 0.1532 - val_acc: 0.9572\n",
            "Epoch 4/20\n",
            "60000/60000 [==============================] - 20s 327us/step - loss: 0.2511 - acc: 0.9304 - val_loss: 0.1307 - val_acc: 0.9624\n",
            "Epoch 5/20\n",
            "60000/60000 [==============================] - 20s 327us/step - loss: 0.2115 - acc: 0.9400 - val_loss: 0.1109 - val_acc: 0.9685\n",
            "Epoch 6/20\n",
            "60000/60000 [==============================] - 20s 327us/step - loss: 0.1863 - acc: 0.9470 - val_loss: 0.1008 - val_acc: 0.9733\n",
            "Epoch 7/20\n",
            "60000/60000 [==============================] - 20s 327us/step - loss: 0.1643 - acc: 0.9547 - val_loss: 0.0981 - val_acc: 0.9744\n",
            "Epoch 8/20\n",
            "60000/60000 [==============================] - 20s 327us/step - loss: 0.1540 - acc: 0.9576 - val_loss: 0.0895 - val_acc: 0.9755\n",
            "Epoch 9/20\n",
            "60000/60000 [==============================] - 19s 324us/step - loss: 0.1399 - acc: 0.9608 - val_loss: 0.0907 - val_acc: 0.9762\n",
            "Epoch 10/20\n",
            "60000/60000 [==============================] - 20s 328us/step - loss: 0.1322 - acc: 0.9640 - val_loss: 0.0795 - val_acc: 0.9777\n",
            "Epoch 11/20\n",
            "60000/60000 [==============================] - 20s 326us/step - loss: 0.1216 - acc: 0.9661 - val_loss: 0.0857 - val_acc: 0.9774\n",
            "Epoch 12/20\n",
            "60000/60000 [==============================] - 20s 332us/step - loss: 0.1200 - acc: 0.9666 - val_loss: 0.0825 - val_acc: 0.9790\n",
            "Epoch 13/20\n",
            "60000/60000 [==============================] - 20s 329us/step - loss: 0.1092 - acc: 0.9700 - val_loss: 0.0750 - val_acc: 0.9804\n",
            "Epoch 14/20\n",
            "60000/60000 [==============================] - 20s 329us/step - loss: 0.1043 - acc: 0.9712 - val_loss: 0.0847 - val_acc: 0.9768\n",
            "Epoch 15/20\n",
            "60000/60000 [==============================] - 19s 322us/step - loss: 0.1009 - acc: 0.9718 - val_loss: 0.0790 - val_acc: 0.9791\n",
            "Epoch 16/20\n",
            "60000/60000 [==============================] - 19s 325us/step - loss: 0.0983 - acc: 0.9724 - val_loss: 0.0718 - val_acc: 0.9823\n",
            "Epoch 17/20\n",
            "60000/60000 [==============================] - 20s 327us/step - loss: 0.0936 - acc: 0.9740 - val_loss: 0.0690 - val_acc: 0.9821\n",
            "Epoch 18/20\n",
            "60000/60000 [==============================] - 20s 326us/step - loss: 0.0882 - acc: 0.9755 - val_loss: 0.0716 - val_acc: 0.9815\n",
            "Epoch 19/20\n",
            "60000/60000 [==============================] - 20s 327us/step - loss: 0.0866 - acc: 0.9761 - val_loss: 0.0701 - val_acc: 0.9818\n",
            "Epoch 20/20\n",
            "60000/60000 [==============================] - 20s 326us/step - loss: 0.0844 - acc: 0.9761 - val_loss: 0.0716 - val_acc: 0.9812\n"
          ],
          "name": "stdout"
        }
      ]
    },
    {
      "cell_type": "code",
      "metadata": {
        "colab_type": "code",
        "outputId": "b3b6aa0b-e02b-48e6-b85c-fc87ccb5745e",
        "id": "vzeBsVoIXoHZ",
        "colab": {
          "base_uri": "https://localhost:8080/",
          "height": 317
        }
      },
      "source": [
        "score = model.evaluate(X_test, Y_test, verbose=0) \n",
        "print('Test score:', score[0]) \n",
        "print('Test accuracy:', score[1])\n",
        "\n",
        "fig,ax = plt.subplots(1,1)\n",
        "ax.set_xlabel('epoch') ; ax.set_ylabel('Categorical Crossentropy Loss')\n",
        "\n",
        "# list of epoch numbers\n",
        "x = list(range(1,nb_epoch+1))\n",
        "\n",
        "# val_loss : validation loss\n",
        "# val_acc : validation accuracy\n",
        "\n",
        "# loss : training loss\n",
        "# acc : train accuracy\n",
        "\n",
        "vy = history.history['val_loss']\n",
        "ty = history.history['loss']\n",
        "plt_dynamic(x, vy, ty, ax)"
      ],
      "execution_count": 22,
      "outputs": [
        {
          "output_type": "stream",
          "text": [
            "Test score: 0.07164842545758002\n",
            "Test accuracy: 0.9812\n"
          ],
          "name": "stdout"
        },
        {
          "output_type": "display_data",
          "data": {
            "image/png": "[encoded data removed]",
            "text/plain": [
              "<Figure size 432x288 with 1 Axes>"
            ]
          },
          "metadata": {
            "tags": []
          }
        }
      ]
    },
    {
      "cell_type": "code",
      "metadata": {
        "id": "1wrjLrLmfxZB",
        "colab_type": "code",
        "colab": {
          "base_uri": "https://localhost:8080/",
          "height": 285
        },
        "outputId": "a05ab01d-43a6-4c1a-e4fe-f496e9d6c6db"
      },
      "source": [
        "w_after = model.get_weights()\n",
        "\n",
        "h1_w = w_after[0].flatten().reshape(-1,1)\n",
        "h2_w = w_after[2].flatten().reshape(-1,1)\n",
        "out_w = w_after[4].flatten().reshape(-1,1)\n",
        "\n",
        "\n",
        "fig = plt.figure()\n",
        "plt.title(\"Weight matrices after model trained\")\n",
        "plt.subplot(1, 3, 1)\n",
        "plt.title(\"Trained model Weights\")\n",
        "ax = sns.violinplot(y=h1_w,color='b')\n",
        "plt.xlabel('Hidden Layer 1')\n",
        "\n",
        "plt.subplot(1, 3, 2)\n",
        "plt.title(\"Trained model Weights\")\n",
        "ax = sns.violinplot(y=h2_w, color='r')\n",
        "plt.xlabel('Hidden Layer 2 ')\n",
        "\n",
        "plt.subplot(1, 3, 3)\n",
        "plt.title(\"Trained model Weights\")\n",
        "ax = sns.violinplot(y=out_w,color='y')\n",
        "plt.xlabel('Output Layer ')\n",
        "plt.show()"
      ],
      "execution_count": 24,
      "outputs": [
        {
          "output_type": "display_data",
          "data": {
            "image/png": "[encoded data removed]",
            "text/plain": [
              "<Figure size 432x288 with 3 Axes>"
            ]
          },
          "metadata": {
            "tags": []
          }
        }
      ]
    },
    {
      "cell_type": "markdown",
      "metadata": {
        "id": "eh4VWYrHQKbz",
        "colab_type": "text"
      },
      "source": [
        " <h3>  MLP + Sigmoid activation + SGDOptimizer </h3>"
      ]
    },
    {
      "cell_type": "code",
      "metadata": {
        "id": "7rzbngqHQKbz",
        "colab_type": "code",
        "outputId": "bf622f7a-9327-4333-8a17-8313d9cd5307",
        "colab": {
          "base_uri": "https://localhost:8080/",
          "height": 272
        }
      },
      "source": [
        "#three hidden layers\n",
        "model_sigmoid = Sequential()\n",
        "model_sigmoid.add(Dense(512, activation='sigmoid', input_shape=(input_dim,)))\n",
        "model_sigmoid.add(Dense(128, activation='sigmoid'))\n",
        "model_sigmoid.add(Dense(65, activation='sigmoid'))\n",
        "model_sigmoid.add(Dense(output_dim, activation='softmax'))\n",
        "\n",
        "model_sigmoid.summary()"
      ],
      "execution_count": 25,
      "outputs": [
        {
          "output_type": "stream",
          "text": [
            "_________________________________________________________________\n",
            "Layer (type)                 Output Shape              Param #   \n",
            "=================================================================\n",
            "dense_14 (Dense)             (None, 512)               401920    \n",
            "_________________________________________________________________\n",
            "dense_15 (Dense)             (None, 128)               65664     \n",
            "_________________________________________________________________\n",
            "dense_16 (Dense)             (None, 65)                8385      \n",
            "_________________________________________________________________\n",
            "dense_17 (Dense)             (None, 10)                660       \n",
            "=================================================================\n",
            "Total params: 476,629\n",
            "Trainable params: 476,629\n",
            "Non-trainable params: 0\n",
            "_________________________________________________________________\n"
          ],
          "name": "stdout"
        }
      ]
    },
    {
      "cell_type": "code",
      "metadata": {
        "id": "48vVImSpQKb5",
        "colab_type": "code",
        "outputId": "9cf80fff-64f9-4994-f410-3c4354a2f300",
        "colab": {
          "base_uri": "https://localhost:8080/",
          "height": 714
        }
      },
      "source": [
        "model_sigmoid.compile(optimizer='sgd', loss='categorical_crossentropy', metrics=['accuracy'])\n",
        "\n",
        "history = model_sigmoid.fit(X_train, Y_train, batch_size=batch_size, epochs=nb_epoch, verbose=1, validation_data=(X_test, Y_test))"
      ],
      "execution_count": 26,
      "outputs": [
        {
          "output_type": "stream",
          "text": [
            "Train on 60000 samples, validate on 10000 samples\n",
            "Epoch 1/20\n",
            "60000/60000 [==============================] - 6s 92us/step - loss: 2.3097 - acc: 0.1075 - val_loss: 2.2973 - val_acc: 0.1135\n",
            "Epoch 2/20\n",
            "60000/60000 [==============================] - 5s 83us/step - loss: 2.2949 - acc: 0.1148 - val_loss: 2.2910 - val_acc: 0.1135\n",
            "Epoch 3/20\n",
            "60000/60000 [==============================] - 5s 83us/step - loss: 2.2887 - acc: 0.1228 - val_loss: 2.2849 - val_acc: 0.1487\n",
            "Epoch 4/20\n",
            "60000/60000 [==============================] - 5s 81us/step - loss: 2.2820 - acc: 0.1247 - val_loss: 2.2770 - val_acc: 0.1161\n",
            "Epoch 5/20\n",
            "60000/60000 [==============================] - 5s 82us/step - loss: 2.2742 - acc: 0.1406 - val_loss: 2.2682 - val_acc: 0.1145\n",
            "Epoch 6/20\n",
            "60000/60000 [==============================] - 5s 83us/step - loss: 2.2646 - acc: 0.1649 - val_loss: 2.2574 - val_acc: 0.3046\n",
            "Epoch 7/20\n",
            "60000/60000 [==============================] - 5s 80us/step - loss: 2.2525 - acc: 0.2492 - val_loss: 2.2437 - val_acc: 0.1568\n",
            "Epoch 8/20\n",
            "60000/60000 [==============================] - 5s 85us/step - loss: 2.2368 - acc: 0.2807 - val_loss: 2.2253 - val_acc: 0.3427\n",
            "Epoch 9/20\n",
            "60000/60000 [==============================] - 5s 85us/step - loss: 2.2157 - acc: 0.3721 - val_loss: 2.1993 - val_acc: 0.4514\n",
            "Epoch 10/20\n",
            "60000/60000 [==============================] - 5s 79us/step - loss: 2.1858 - acc: 0.4313 - val_loss: 2.1623 - val_acc: 0.4267\n",
            "Epoch 11/20\n",
            "60000/60000 [==============================] - 5s 82us/step - loss: 2.1419 - acc: 0.4685 - val_loss: 2.1081 - val_acc: 0.5302\n",
            "Epoch 12/20\n",
            "60000/60000 [==============================] - 5s 84us/step - loss: 2.0762 - acc: 0.5052 - val_loss: 2.0264 - val_acc: 0.4677\n",
            "Epoch 13/20\n",
            "60000/60000 [==============================] - 5s 86us/step - loss: 1.9797 - acc: 0.5121 - val_loss: 1.9109 - val_acc: 0.5773\n",
            "Epoch 14/20\n",
            "60000/60000 [==============================] - 5s 85us/step - loss: 1.8517 - acc: 0.5352 - val_loss: 1.7707 - val_acc: 0.5640\n",
            "Epoch 15/20\n",
            "60000/60000 [==============================] - 5s 83us/step - loss: 1.7101 - acc: 0.5555 - val_loss: 1.6304 - val_acc: 0.5639\n",
            "Epoch 16/20\n",
            "60000/60000 [==============================] - 5s 84us/step - loss: 1.5782 - acc: 0.5760 - val_loss: 1.5076 - val_acc: 0.6102\n",
            "Epoch 17/20\n",
            "60000/60000 [==============================] - 5s 83us/step - loss: 1.4647 - acc: 0.6023 - val_loss: 1.4025 - val_acc: 0.6260\n",
            "Epoch 18/20\n",
            "60000/60000 [==============================] - 5s 81us/step - loss: 1.3658 - acc: 0.6240 - val_loss: 1.3083 - val_acc: 0.6394\n",
            "Epoch 19/20\n",
            "60000/60000 [==============================] - 5s 86us/step - loss: 1.2745 - acc: 0.6412 - val_loss: 1.2193 - val_acc: 0.6664\n",
            "Epoch 20/20\n",
            "60000/60000 [==============================] - 5s 82us/step - loss: 1.1883 - acc: 0.6595 - val_loss: 1.1353 - val_acc: 0.6817\n"
          ],
          "name": "stdout"
        }
      ]
    },
    {
      "cell_type": "code",
      "metadata": {
        "id": "6ffjzr8hQKb8",
        "colab_type": "code",
        "outputId": "7360f135-b3ec-4d18-91b7-6ff8ea77e7a2",
        "colab": {
          "base_uri": "https://localhost:8080/",
          "height": 317
        }
      },
      "source": [
        "score = model_sigmoid.evaluate(X_test, Y_test, verbose=0) \n",
        "print('Test score:', score[0]) \n",
        "print('Test accuracy:', score[1])\n",
        "\n",
        "fig,ax = plt.subplots(1,1)\n",
        "ax.set_xlabel('epoch') ; ax.set_ylabel('Categorical Crossentropy Loss')\n",
        "\n",
        "# list of epoch numbers\n",
        "x = list(range(1,nb_epoch+1))\n",
        "\n",
        "vy = history.history['val_loss']\n",
        "ty = history.history['loss']\n",
        "plt_dynamic(x, vy, ty, ax)"
      ],
      "execution_count": 27,
      "outputs": [
        {
          "output_type": "stream",
          "text": [
            "Test score: 1.1352740411758422\n",
            "Test accuracy: 0.6817\n"
          ],
          "name": "stdout"
        },
        {
          "output_type": "display_data",
          "data": {
            "image/png": "[encoded data removed]",
            "text/plain": [
              "<Figure size 432x288 with 1 Axes>"
            ]
          },
          "metadata": {
            "tags": []
          }
        }
      ]
    },
    {
      "cell_type": "code",
      "metadata": {
        "id": "Ejn01XXdQKb-",
        "colab_type": "code",
        "outputId": "5e8959f7-fc9e-4c18-cb72-9dae3f5b2059",
        "colab": {
          "base_uri": "https://localhost:8080/",
          "height": 285
        }
      },
      "source": [
        "w_after = model_sigmoid.get_weights()\n",
        "\n",
        "h1_w = w_after[0].flatten().reshape(-1,1)\n",
        "h2_w = w_after[2].flatten().reshape(-1,1)\n",
        "out_w = w_after[4].flatten().reshape(-1,1)\n",
        "\n",
        "\n",
        "fig = plt.figure()\n",
        "plt.title(\"Weight matrices after model trained\")\n",
        "plt.subplot(1, 3, 1)\n",
        "plt.title(\"Trained model Weights\")\n",
        "ax = sns.violinplot(y=h1_w,color='b')\n",
        "plt.xlabel('Hidden Layer 1')\n",
        "\n",
        "plt.subplot(1, 3, 2)\n",
        "plt.title(\"Trained model Weights\")\n",
        "ax = sns.violinplot(y=h2_w, color='r')\n",
        "plt.xlabel('Hidden Layer 2 ')\n",
        "\n",
        "plt.subplot(1, 3, 3)\n",
        "plt.title(\"Trained model Weights\")\n",
        "ax = sns.violinplot(y=out_w,color='y')\n",
        "plt.xlabel('Output Layer ')\n",
        "plt.show()"
      ],
      "execution_count": 28,
      "outputs": [
        {
          "output_type": "display_data",
          "data": {
            "image/png": "[encoded data removed]",
            "text/plain": [
              "<Figure size 432x288 with 3 Axes>"
            ]
          },
          "metadata": {
            "tags": []
          }
        }
      ]
    },
    {
      "cell_type": "markdown",
      "metadata": {
        "id": "ExLv_CAeQKcA",
        "colab_type": "text"
      },
      "source": [
        "<h2>MLP + Sigmoid activation + ADAM </h2>"
      ]
    },
    {
      "cell_type": "code",
      "metadata": {
        "id": "w9BtnNGaQKcD",
        "colab_type": "code",
        "outputId": "5334295a-0399-4cdc-a961-44e96f10065e",
        "colab": {
          "base_uri": "https://localhost:8080/",
          "height": 1000
        }
      },
      "source": [
        "#five hidden layers with BN and Dropout\n",
        "model_sigmoid = Sequential()\n",
        "\n",
        "model_sigmoid.add(Dense(665, activation='sigmoid', input_shape=(input_dim,)))\n",
        "model_sigmoid.add(BatchNormalization())\n",
        "model_sigmoid.add(Dropout(0.2))\n",
        "\n",
        "model_sigmoid.add(Dense(456, activation='sigmoid'))\n",
        "model_sigmoid.add(BatchNormalization())\n",
        "model_sigmoid.add(Dropout(0.2))\n",
        "\n",
        "model_sigmoid.add(Dense(348, activation='sigmoid'))\n",
        "model_sigmoid.add(BatchNormalization())\n",
        "model_sigmoid.add(Dropout(0.2))\n",
        "\n",
        "model_sigmoid.add(Dense(250, activation='sigmoid'))\n",
        "model_sigmoid.add(BatchNormalization())\n",
        "model_sigmoid.add(Dropout(0.2))\n",
        "\n",
        "model_sigmoid.add(Dense(115, activation='sigmoid'))\n",
        "model_sigmoid.add(BatchNormalization())\n",
        "model_sigmoid.add(Dropout(0.2))\n",
        "\n",
        "model_sigmoid.add(Dense(output_dim, activation='softmax'))\n",
        "\n",
        "model_sigmoid.summary()\n",
        "\n",
        "model_sigmoid.compile(optimizer='adam', loss='categorical_crossentropy', metrics=['accuracy'])\n",
        "\n",
        "history = model_sigmoid.fit(X_train, Y_train, batch_size=batch_size, epochs=nb_epoch, verbose=1, validation_data=(X_test, Y_test))"
      ],
      "execution_count": 57,
      "outputs": [
        {
          "output_type": "stream",
          "text": [
            "_________________________________________________________________\n",
            "Layer (type)                 Output Shape              Param #   \n",
            "=================================================================\n",
            "dense_47 (Dense)             (None, 665)               522025    \n",
            "_________________________________________________________________\n",
            "batch_normalization_30 (Batc (None, 665)               2660      \n",
            "_________________________________________________________________\n",
            "dropout_25 (Dropout)         (None, 665)               0         \n",
            "_________________________________________________________________\n",
            "dense_48 (Dense)             (None, 456)               303696    \n",
            "_________________________________________________________________\n",
            "batch_normalization_31 (Batc (None, 456)               1824      \n",
            "_________________________________________________________________\n",
            "dropout_26 (Dropout)         (None, 456)               0         \n",
            "_________________________________________________________________\n",
            "dense_49 (Dense)             (None, 348)               159036    \n",
            "_________________________________________________________________\n",
            "batch_normalization_32 (Batc (None, 348)               1392      \n",
            "_________________________________________________________________\n",
            "dropout_27 (Dropout)         (None, 348)               0         \n",
            "_________________________________________________________________\n",
            "dense_50 (Dense)             (None, 250)               87250     \n",
            "_________________________________________________________________\n",
            "batch_normalization_33 (Batc (None, 250)               1000      \n",
            "_________________________________________________________________\n",
            "dropout_28 (Dropout)         (None, 250)               0         \n",
            "_________________________________________________________________\n",
            "dense_51 (Dense)             (None, 115)               28865     \n",
            "_________________________________________________________________\n",
            "batch_normalization_34 (Batc (None, 115)               460       \n",
            "_________________________________________________________________\n",
            "dropout_29 (Dropout)         (None, 115)               0         \n",
            "_________________________________________________________________\n",
            "dense_52 (Dense)             (None, 10)                1160      \n",
            "=================================================================\n",
            "Total params: 1,109,368\n",
            "Trainable params: 1,105,700\n",
            "Non-trainable params: 3,668\n",
            "_________________________________________________________________\n",
            "Train on 60000 samples, validate on 10000 samples\n",
            "Epoch 1/20\n",
            "60000/60000 [==============================] - 22s 362us/step - loss: 0.3562 - acc: 0.8939 - val_loss: 0.1844 - val_acc: 0.9448\n",
            "Epoch 2/20\n",
            "60000/60000 [==============================] - 18s 307us/step - loss: 0.2023 - acc: 0.9407 - val_loss: 0.1439 - val_acc: 0.9577\n",
            "Epoch 3/20\n",
            "60000/60000 [==============================] - 19s 309us/step - loss: 0.1596 - acc: 0.9528 - val_loss: 0.1113 - val_acc: 0.9655\n",
            "Epoch 4/20\n",
            "60000/60000 [==============================] - 19s 309us/step - loss: 0.1305 - acc: 0.9606 - val_loss: 0.1040 - val_acc: 0.9687\n",
            "Epoch 5/20\n",
            "60000/60000 [==============================] - 19s 310us/step - loss: 0.1109 - acc: 0.9663 - val_loss: 0.0968 - val_acc: 0.9712\n",
            "Epoch 6/20\n",
            "60000/60000 [==============================] - 19s 313us/step - loss: 0.1000 - acc: 0.9699 - val_loss: 0.0853 - val_acc: 0.9728\n",
            "Epoch 7/20\n",
            "60000/60000 [==============================] - 19s 312us/step - loss: 0.0868 - acc: 0.9735 - val_loss: 0.0830 - val_acc: 0.9743\n",
            "Epoch 8/20\n",
            "60000/60000 [==============================] - 19s 311us/step - loss: 0.0791 - acc: 0.9759 - val_loss: 0.0778 - val_acc: 0.9771\n",
            "Epoch 9/20\n",
            "60000/60000 [==============================] - 19s 311us/step - loss: 0.0694 - acc: 0.9780 - val_loss: 0.0861 - val_acc: 0.9755\n",
            "Epoch 10/20\n",
            "60000/60000 [==============================] - 19s 311us/step - loss: 0.0661 - acc: 0.9793 - val_loss: 0.0731 - val_acc: 0.9780\n",
            "Epoch 11/20\n",
            "60000/60000 [==============================] - 19s 312us/step - loss: 0.0580 - acc: 0.9815 - val_loss: 0.0741 - val_acc: 0.9782\n",
            "Epoch 12/20\n",
            "60000/60000 [==============================] - 19s 310us/step - loss: 0.0560 - acc: 0.9824 - val_loss: 0.0742 - val_acc: 0.9793\n",
            "Epoch 13/20\n",
            "60000/60000 [==============================] - 19s 312us/step - loss: 0.0515 - acc: 0.9838 - val_loss: 0.0738 - val_acc: 0.9794\n",
            "Epoch 14/20\n",
            "60000/60000 [==============================] - 19s 310us/step - loss: 0.0471 - acc: 0.9853 - val_loss: 0.0672 - val_acc: 0.9811\n",
            "Epoch 15/20\n",
            "60000/60000 [==============================] - 19s 309us/step - loss: 0.0417 - acc: 0.9860 - val_loss: 0.0688 - val_acc: 0.9797\n",
            "Epoch 16/20\n",
            "60000/60000 [==============================] - 19s 313us/step - loss: 0.0437 - acc: 0.9865 - val_loss: 0.0716 - val_acc: 0.9812\n",
            "Epoch 17/20\n",
            "60000/60000 [==============================] - 19s 308us/step - loss: 0.0378 - acc: 0.9881 - val_loss: 0.0766 - val_acc: 0.9794\n",
            "Epoch 18/20\n",
            "60000/60000 [==============================] - 19s 310us/step - loss: 0.0367 - acc: 0.9882 - val_loss: 0.0726 - val_acc: 0.9824\n",
            "Epoch 19/20\n",
            "60000/60000 [==============================] - 19s 312us/step - loss: 0.0364 - acc: 0.9884 - val_loss: 0.0763 - val_acc: 0.9799\n",
            "Epoch 20/20\n",
            "60000/60000 [==============================] - 19s 310us/step - loss: 0.0339 - acc: 0.9891 - val_loss: 0.0672 - val_acc: 0.9833\n"
          ],
          "name": "stdout"
        }
      ]
    },
    {
      "cell_type": "code",
      "metadata": {
        "id": "AslSnqQ2QKcF",
        "colab_type": "code",
        "outputId": "bce4779e-9824-4395-a595-0d8a348d4889",
        "colab": {
          "base_uri": "https://localhost:8080/",
          "height": 317
        }
      },
      "source": [
        "score = model_sigmoid.evaluate(X_test, Y_test, verbose=0) \n",
        "print('Test score:', score[0]) \n",
        "print('Test accuracy:', score[1])\n",
        "\n",
        "fig,ax = plt.subplots(1,1)\n",
        "ax.set_xlabel('epoch') ; ax.set_ylabel('Categorical Crossentropy Loss')\n",
        "\n",
        "# list of epoch numbers\n",
        "x = list(range(1,nb_epoch+1))\n",
        "\n",
        "vy = history.history['val_loss']\n",
        "ty = history.history['loss']\n",
        "plt_dynamic(x, vy, ty, ax)"
      ],
      "execution_count": 58,
      "outputs": [
        {
          "output_type": "stream",
          "text": [
            "Test score: 0.0672482188842725\n",
            "Test accuracy: 0.9833\n"
          ],
          "name": "stdout"
        },
        {
          "output_type": "display_data",
          "data": {
            "image/png": "[encoded data removed]",
            "text/plain": [
              "<Figure size 432x288 with 1 Axes>"
            ]
          },
          "metadata": {
            "tags": []
          }
        }
      ]
    },
    {
      "cell_type": "code",
      "metadata": {
        "id": "HEp-AZCSQKcI",
        "colab_type": "code",
        "outputId": "1b8e75f6-da82-47fb-83a3-afd4e0f283aa",
        "colab": {
          "base_uri": "https://localhost:8080/",
          "height": 285
        }
      },
      "source": [
        "w_after = model_sigmoid.get_weights()\n",
        "\n",
        "h1_w = w_after[0].flatten().reshape(-1,1)\n",
        "h2_w = w_after[2].flatten().reshape(-1,1)\n",
        "out_w = w_after[4].flatten().reshape(-1,1)\n",
        "\n",
        "\n",
        "fig = plt.figure()\n",
        "plt.title(\"Weight matrices after model trained\")\n",
        "plt.subplot(1, 3, 1)\n",
        "plt.title(\"Trained model Weights\")\n",
        "ax = sns.violinplot(y=h1_w,color='b')\n",
        "plt.xlabel('Hidden Layer 1')\n",
        "\n",
        "plt.subplot(1, 3, 2)\n",
        "plt.title(\"Trained model Weights\")\n",
        "ax = sns.violinplot(y=h2_w, color='r')\n",
        "plt.xlabel('Hidden Layer 2 ')\n",
        "\n",
        "plt.subplot(1, 3, 3)\n",
        "plt.title(\"Trained model Weights\")\n",
        "ax = sns.violinplot(y=out_w,color='y')\n",
        "plt.xlabel('Output Layer ')\n",
        "plt.show()"
      ],
      "execution_count": 59,
      "outputs": [
        {
          "output_type": "display_data",
          "data": {
            "image/png": "[encoded data removed]",
            "text/plain": [
              "<Figure size 432x288 with 3 Axes>"
            ]
          },
          "metadata": {
            "tags": []
          }
        }
      ]
    },
    {
      "cell_type": "markdown",
      "metadata": {
        "id": "bRVrzqvSQKcL",
        "colab_type": "text"
      },
      "source": [
        "<h2> MLP + ReLU +SGD </h2>"
      ]
    },
    {
      "cell_type": "code",
      "metadata": {
        "id": "O8lG2jzmQKcM",
        "colab_type": "code",
        "outputId": "99d31803-7b5a-4a79-faa0-f20d07c7aeb3",
        "colab": {
          "base_uri": "https://localhost:8080/",
          "height": 272
        }
      },
      "source": [
        "#three hidden layers with different weight initializations\n",
        "model_relu = Sequential()\n",
        "model_relu.add(Dense(548, activation='relu', input_shape=(input_dim,), kernel_initializer=RandomNormal(mean=0.0, stddev=0.062, seed=None)))\n",
        "model_relu.add(Dense(328, activation='relu', kernel_initializer=RandomNormal(mean=0.0, stddev=0.125, seed=None)) )\n",
        "model_relu.add(Dense(158, activation='relu', kernel_initializer=RandomNormal(mean=0.0, stddev=0.187, seed=None)) )\n",
        "model_relu.add(Dense(output_dim, activation='softmax'))\n",
        "\n",
        "model_relu.summary()"
      ],
      "execution_count": 33,
      "outputs": [
        {
          "output_type": "stream",
          "text": [
            "_________________________________________________________________\n",
            "Layer (type)                 Output Shape              Param #   \n",
            "=================================================================\n",
            "dense_25 (Dense)             (None, 548)               430180    \n",
            "_________________________________________________________________\n",
            "dense_26 (Dense)             (None, 328)               180072    \n",
            "_________________________________________________________________\n",
            "dense_27 (Dense)             (None, 158)               51982     \n",
            "_________________________________________________________________\n",
            "dense_28 (Dense)             (None, 10)                1590      \n",
            "=================================================================\n",
            "Total params: 663,824\n",
            "Trainable params: 663,824\n",
            "Non-trainable params: 0\n",
            "_________________________________________________________________\n"
          ],
          "name": "stdout"
        }
      ]
    },
    {
      "cell_type": "code",
      "metadata": {
        "id": "QhtoviFKQKcP",
        "colab_type": "code",
        "outputId": "45d6363d-1bf4-4d4a-e4b0-214c5d9ed1a3",
        "colab": {
          "base_uri": "https://localhost:8080/",
          "height": 714
        }
      },
      "source": [
        "model_relu.compile(optimizer='sgd', loss='categorical_crossentropy', metrics=['accuracy'])\n",
        "\n",
        "history = model_relu.fit(X_train, Y_train, batch_size=batch_size, epochs=nb_epoch, verbose=1, validation_data=(X_test, Y_test))"
      ],
      "execution_count": 34,
      "outputs": [
        {
          "output_type": "stream",
          "text": [
            "Train on 60000 samples, validate on 10000 samples\n",
            "Epoch 1/20\n",
            "60000/60000 [==============================] - 8s 137us/step - loss: 0.4969 - acc: 0.8481 - val_loss: 0.2790 - val_acc: 0.9186\n",
            "Epoch 2/20\n",
            "60000/60000 [==============================] - 7s 124us/step - loss: 0.2506 - acc: 0.9248 - val_loss: 0.2196 - val_acc: 0.9367\n",
            "Epoch 3/20\n",
            "60000/60000 [==============================] - 7s 118us/step - loss: 0.1990 - acc: 0.9407 - val_loss: 0.1914 - val_acc: 0.9450\n",
            "Epoch 4/20\n",
            "60000/60000 [==============================] - 7s 122us/step - loss: 0.1674 - acc: 0.9505 - val_loss: 0.1685 - val_acc: 0.9517\n",
            "Epoch 5/20\n",
            "60000/60000 [==============================] - 7s 118us/step - loss: 0.1456 - acc: 0.9579 - val_loss: 0.1582 - val_acc: 0.9550\n",
            "Epoch 6/20\n",
            "60000/60000 [==============================] - 7s 121us/step - loss: 0.1287 - acc: 0.9626 - val_loss: 0.1499 - val_acc: 0.9559\n",
            "Epoch 7/20\n",
            "60000/60000 [==============================] - 7s 122us/step - loss: 0.1160 - acc: 0.9667 - val_loss: 0.1358 - val_acc: 0.9600\n",
            "Epoch 8/20\n",
            "60000/60000 [==============================] - 7s 122us/step - loss: 0.1049 - acc: 0.9698 - val_loss: 0.1315 - val_acc: 0.9612\n",
            "Epoch 9/20\n",
            "60000/60000 [==============================] - 7s 122us/step - loss: 0.0958 - acc: 0.9729 - val_loss: 0.1250 - val_acc: 0.9626\n",
            "Epoch 10/20\n",
            "60000/60000 [==============================] - 7s 119us/step - loss: 0.0880 - acc: 0.9753 - val_loss: 0.1213 - val_acc: 0.9637\n",
            "Epoch 11/20\n",
            "60000/60000 [==============================] - 7s 121us/step - loss: 0.0809 - acc: 0.9774 - val_loss: 0.1177 - val_acc: 0.9647\n",
            "Epoch 12/20\n",
            "60000/60000 [==============================] - 7s 120us/step - loss: 0.0750 - acc: 0.9794 - val_loss: 0.1140 - val_acc: 0.9668\n",
            "Epoch 13/20\n",
            "60000/60000 [==============================] - 7s 122us/step - loss: 0.0694 - acc: 0.9814 - val_loss: 0.1138 - val_acc: 0.9665\n",
            "Epoch 14/20\n",
            "60000/60000 [==============================] - 7s 120us/step - loss: 0.0648 - acc: 0.9827 - val_loss: 0.1110 - val_acc: 0.9670\n",
            "Epoch 15/20\n",
            "60000/60000 [==============================] - 7s 117us/step - loss: 0.0603 - acc: 0.9840 - val_loss: 0.1090 - val_acc: 0.9685\n",
            "Epoch 16/20\n",
            "60000/60000 [==============================] - 7s 117us/step - loss: 0.0562 - acc: 0.9857 - val_loss: 0.1056 - val_acc: 0.9686\n",
            "Epoch 17/20\n",
            "60000/60000 [==============================] - 7s 119us/step - loss: 0.0526 - acc: 0.9867 - val_loss: 0.1024 - val_acc: 0.9702\n",
            "Epoch 18/20\n",
            "60000/60000 [==============================] - 7s 121us/step - loss: 0.0493 - acc: 0.9875 - val_loss: 0.1014 - val_acc: 0.9710\n",
            "Epoch 19/20\n",
            "60000/60000 [==============================] - 7s 123us/step - loss: 0.0461 - acc: 0.9889 - val_loss: 0.1009 - val_acc: 0.9708\n",
            "Epoch 20/20\n",
            "60000/60000 [==============================] - 7s 120us/step - loss: 0.0432 - acc: 0.9896 - val_loss: 0.1027 - val_acc: 0.9711\n"
          ],
          "name": "stdout"
        }
      ]
    },
    {
      "cell_type": "code",
      "metadata": {
        "id": "0rKzoKxgQKcS",
        "colab_type": "code",
        "outputId": "543e23dc-5e54-480d-8652-c61a29eb6f87",
        "colab": {
          "base_uri": "https://localhost:8080/",
          "height": 317
        }
      },
      "source": [
        "score = model_relu.evaluate(X_test, Y_test, verbose=0) \n",
        "print('Test score:', score[0]) \n",
        "print('Test accuracy:', score[1])\n",
        "\n",
        "fig,ax = plt.subplots(1,1)\n",
        "ax.set_xlabel('epoch') ; ax.set_ylabel('Categorical Crossentropy Loss')\n",
        "\n",
        "# list of epoch numbers\n",
        "x = list(range(1,nb_epoch+1))\n",
        "\n",
        "vy = history.history['val_loss']\n",
        "ty = history.history['loss']\n",
        "plt_dynamic(x, vy, ty, ax)"
      ],
      "execution_count": 35,
      "outputs": [
        {
          "output_type": "stream",
          "text": [
            "Test score: 0.10271617978247814\n",
            "Test accuracy: 0.9711\n"
          ],
          "name": "stdout"
        },
        {
          "output_type": "display_data",
          "data": {
            "image/png": "[encoded data removed]",
            "text/plain": [
              "<Figure size 432x288 with 1 Axes>"
            ]
          },
          "metadata": {
            "tags": []
          }
        }
      ]
    },
    {
      "cell_type": "code",
      "metadata": {
        "id": "z386BnBlQKcV",
        "colab_type": "code",
        "outputId": "2571e37b-75e3-447e-bf9e-a567eec42d56",
        "colab": {
          "base_uri": "https://localhost:8080/",
          "height": 285
        }
      },
      "source": [
        "w_after = model_relu.get_weights()\n",
        "\n",
        "h1_w = w_after[0].flatten().reshape(-1,1)\n",
        "h2_w = w_after[2].flatten().reshape(-1,1)\n",
        "out_w = w_after[4].flatten().reshape(-1,1)\n",
        "\n",
        "\n",
        "fig = plt.figure()\n",
        "plt.title(\"Weight matrices after model trained\")\n",
        "plt.subplot(1, 3, 1)\n",
        "plt.title(\"Trained model Weights\")\n",
        "ax = sns.violinplot(y=h1_w,color='b')\n",
        "plt.xlabel('Hidden Layer 1')\n",
        "\n",
        "plt.subplot(1, 3, 2)\n",
        "plt.title(\"Trained model Weights\")\n",
        "ax = sns.violinplot(y=h2_w, color='r')\n",
        "plt.xlabel('Hidden Layer 2 ')\n",
        "\n",
        "plt.subplot(1, 3, 3)\n",
        "plt.title(\"Trained model Weights\")\n",
        "ax = sns.violinplot(y=out_w,color='y')\n",
        "plt.xlabel('Output Layer ')\n",
        "plt.show()"
      ],
      "execution_count": 36,
      "outputs": [
        {
          "output_type": "display_data",
          "data": {
            "image/png": "[encoded data removed]",
            "text/plain": [
              "<Figure size 432x288 with 3 Axes>"
            ]
          },
          "metadata": {
            "tags": []
          }
        }
      ]
    },
    {
      "cell_type": "markdown",
      "metadata": {
        "id": "TjduBU7hQKch",
        "colab_type": "text"
      },
      "source": [
        "<h2> MLP + Batch-Norm on hidden Layers + AdamOptimizer </2>"
      ]
    },
    {
      "cell_type": "code",
      "metadata": {
        "id": "KGHnPnoTQKci",
        "colab_type": "code",
        "outputId": "d7ef652a-d957-4769-afc5-571ebec90ffc",
        "colab": {
          "base_uri": "https://localhost:8080/",
          "height": 510
        }
      },
      "source": [
        "#Five hidden layers with activation='sigmoid', BN & different weight initializations\n",
        "\n",
        "model_batch = Sequential()\n",
        "\n",
        "model_batch.add(Dense(512, activation='sigmoid', input_shape=(input_dim,), kernel_initializer=RandomNormal(mean=0.0, stddev=0.039, seed=None)))\n",
        "model_batch.add(BatchNormalization())\n",
        "\n",
        "model_batch.add(Dense(456, activation='sigmoid', kernel_initializer=RandomNormal(mean=0.0, stddev=0.55, seed=None)) )\n",
        "model_batch.add(BatchNormalization())\n",
        "\n",
        "model_batch.add(Dense(368, activation='sigmoid', kernel_initializer=RandomNormal(mean=0.0, stddev=0.85, seed=None)) )\n",
        "model_batch.add(BatchNormalization())\n",
        "\n",
        "model_batch.add(Dense(228, activation='sigmoid', kernel_initializer=RandomNormal(mean=0.0, stddev=0.105, seed=None)) )\n",
        "model_batch.add(BatchNormalization())\n",
        "\n",
        "model_batch.add(Dense(123, activation='sigmoid', kernel_initializer=RandomNormal(mean=0.0, stddev=0.155, seed=None)) )\n",
        "model_batch.add(BatchNormalization())\n",
        "\n",
        "model_batch.add(Dense(output_dim, activation='softmax'))\n",
        "\n",
        "\n",
        "model_batch.summary()"
      ],
      "execution_count": 40,
      "outputs": [
        {
          "output_type": "stream",
          "text": [
            "_________________________________________________________________\n",
            "Layer (type)                 Output Shape              Param #   \n",
            "=================================================================\n",
            "dense_33 (Dense)             (None, 512)               401920    \n",
            "_________________________________________________________________\n",
            "batch_normalization_19 (Batc (None, 512)               2048      \n",
            "_________________________________________________________________\n",
            "dense_34 (Dense)             (None, 456)               233928    \n",
            "_________________________________________________________________\n",
            "batch_normalization_20 (Batc (None, 456)               1824      \n",
            "_________________________________________________________________\n",
            "dense_35 (Dense)             (None, 368)               168176    \n",
            "_________________________________________________________________\n",
            "batch_normalization_21 (Batc (None, 368)               1472      \n",
            "_________________________________________________________________\n",
            "dense_36 (Dense)             (None, 228)               84132     \n",
            "_________________________________________________________________\n",
            "batch_normalization_22 (Batc (None, 228)               912       \n",
            "_________________________________________________________________\n",
            "dense_37 (Dense)             (None, 123)               28167     \n",
            "_________________________________________________________________\n",
            "batch_normalization_23 (Batc (None, 123)               492       \n",
            "_________________________________________________________________\n",
            "dense_38 (Dense)             (None, 10)                1240      \n",
            "=================================================================\n",
            "Total params: 924,311\n",
            "Trainable params: 920,937\n",
            "Non-trainable params: 3,374\n",
            "_________________________________________________________________\n"
          ],
          "name": "stdout"
        }
      ]
    },
    {
      "cell_type": "code",
      "metadata": {
        "id": "yMPo5fcUQKcm",
        "colab_type": "code",
        "outputId": "24f87890-f320-4f90-bd9e-03fd5ad4f013",
        "colab": {
          "base_uri": "https://localhost:8080/",
          "height": 714
        }
      },
      "source": [
        "model_batch.compile(optimizer='adam', loss='categorical_crossentropy', metrics=['accuracy'])\n",
        "\n",
        "history = model_batch.fit(X_train, Y_train, batch_size=batch_size, epochs=nb_epoch, verbose=1, validation_data=(X_test, Y_test))"
      ],
      "execution_count": 41,
      "outputs": [
        {
          "output_type": "stream",
          "text": [
            "Train on 60000 samples, validate on 10000 samples\n",
            "Epoch 1/20\n",
            "60000/60000 [==============================] - 18s 294us/step - loss: 0.3484 - acc: 0.8953 - val_loss: 0.2326 - val_acc: 0.9304\n",
            "Epoch 2/20\n",
            "60000/60000 [==============================] - 15s 249us/step - loss: 0.1872 - acc: 0.9433 - val_loss: 0.1792 - val_acc: 0.9466\n",
            "Epoch 3/20\n",
            "60000/60000 [==============================] - 15s 252us/step - loss: 0.1451 - acc: 0.9551 - val_loss: 0.1602 - val_acc: 0.9499\n",
            "Epoch 4/20\n",
            "60000/60000 [==============================] - 15s 252us/step - loss: 0.1237 - acc: 0.9612 - val_loss: 0.1306 - val_acc: 0.9602\n",
            "Epoch 5/20\n",
            "60000/60000 [==============================] - 15s 252us/step - loss: 0.1047 - acc: 0.9675 - val_loss: 0.1287 - val_acc: 0.9616\n",
            "Epoch 6/20\n",
            "60000/60000 [==============================] - 15s 248us/step - loss: 0.0951 - acc: 0.9700 - val_loss: 0.1229 - val_acc: 0.9637\n",
            "Epoch 7/20\n",
            "60000/60000 [==============================] - 15s 253us/step - loss: 0.0879 - acc: 0.9720 - val_loss: 0.1236 - val_acc: 0.9644\n",
            "Epoch 8/20\n",
            "60000/60000 [==============================] - 15s 253us/step - loss: 0.0779 - acc: 0.9748 - val_loss: 0.1144 - val_acc: 0.9641\n",
            "Epoch 9/20\n",
            "60000/60000 [==============================] - 15s 250us/step - loss: 0.0735 - acc: 0.9760 - val_loss: 0.1177 - val_acc: 0.9644\n",
            "Epoch 10/20\n",
            "60000/60000 [==============================] - 15s 250us/step - loss: 0.0671 - acc: 0.9785 - val_loss: 0.1116 - val_acc: 0.9665\n",
            "Epoch 11/20\n",
            "60000/60000 [==============================] - 15s 248us/step - loss: 0.0617 - acc: 0.9796 - val_loss: 0.1086 - val_acc: 0.9674\n",
            "Epoch 12/20\n",
            "60000/60000 [==============================] - 15s 245us/step - loss: 0.0560 - acc: 0.9820 - val_loss: 0.1077 - val_acc: 0.9684\n",
            "Epoch 13/20\n",
            "60000/60000 [==============================] - 15s 248us/step - loss: 0.0557 - acc: 0.9817 - val_loss: 0.1101 - val_acc: 0.9679\n",
            "Epoch 14/20\n",
            "60000/60000 [==============================] - 15s 252us/step - loss: 0.0529 - acc: 0.9829 - val_loss: 0.1132 - val_acc: 0.9657\n",
            "Epoch 15/20\n",
            "60000/60000 [==============================] - 15s 250us/step - loss: 0.0510 - acc: 0.9830 - val_loss: 0.0993 - val_acc: 0.9692\n",
            "Epoch 16/20\n",
            "60000/60000 [==============================] - 15s 249us/step - loss: 0.0467 - acc: 0.9850 - val_loss: 0.1116 - val_acc: 0.9681\n",
            "Epoch 17/20\n",
            "60000/60000 [==============================] - 15s 248us/step - loss: 0.0451 - acc: 0.9851 - val_loss: 0.1040 - val_acc: 0.9701\n",
            "Epoch 18/20\n",
            "60000/60000 [==============================] - 15s 252us/step - loss: 0.0416 - acc: 0.9857 - val_loss: 0.1066 - val_acc: 0.9705\n",
            "Epoch 19/20\n",
            "60000/60000 [==============================] - 15s 246us/step - loss: 0.0401 - acc: 0.9863 - val_loss: 0.1004 - val_acc: 0.9715\n",
            "Epoch 20/20\n",
            "60000/60000 [==============================] - 15s 249us/step - loss: 0.0387 - acc: 0.9868 - val_loss: 0.1025 - val_acc: 0.9707\n"
          ],
          "name": "stdout"
        }
      ]
    },
    {
      "cell_type": "code",
      "metadata": {
        "id": "HThyBcHUQKcn",
        "colab_type": "code",
        "outputId": "b4caf2ac-393e-4dc3-fe5a-174865a7a286",
        "colab": {
          "base_uri": "https://localhost:8080/",
          "height": 317
        }
      },
      "source": [
        "score = model_batch.evaluate(X_test, Y_test, verbose=0) \n",
        "print('Test score:', score[0]) \n",
        "print('Test accuracy:', score[1])\n",
        "\n",
        "fig,ax = plt.subplots(1,1)\n",
        "ax.set_xlabel('epoch') ; ax.set_ylabel('Categorical Crossentropy Loss')\n",
        "\n",
        "# list of epoch numbers\n",
        "x = list(range(1,nb_epoch+1))\n",
        "\n",
        "vy = history.history['val_loss']\n",
        "ty = history.history['loss']\n",
        "plt_dynamic(x, vy, ty, ax)"
      ],
      "execution_count": 42,
      "outputs": [
        {
          "output_type": "stream",
          "text": [
            "Test score: 0.10247163554290309\n",
            "Test accuracy: 0.9707\n"
          ],
          "name": "stdout"
        },
        {
          "output_type": "display_data",
          "data": {
            "image/png": "[encoded data removed]",
            "text/plain": [
              "<Figure size 432x288 with 1 Axes>"
            ]
          },
          "metadata": {
            "tags": []
          }
        }
      ]
    },
    {
      "cell_type": "code",
      "metadata": {
        "id": "Ilj0es2yQKcp",
        "colab_type": "code",
        "outputId": "243f4bbf-b454-4f05-c2e7-25bea076ddcf",
        "colab": {
          "base_uri": "https://localhost:8080/",
          "height": 285
        }
      },
      "source": [
        "w_after = model_batch.get_weights()\n",
        "\n",
        "h1_w = w_after[0].flatten().reshape(-1,1)\n",
        "h2_w = w_after[2].flatten().reshape(-1,1)\n",
        "out_w = w_after[4].flatten().reshape(-1,1)\n",
        "\n",
        "\n",
        "fig = plt.figure()\n",
        "plt.title(\"Weight matrices after model trained\")\n",
        "plt.subplot(1, 3, 1)\n",
        "plt.title(\"Trained model Weights\")\n",
        "ax = sns.violinplot(y=h1_w,color='b')\n",
        "plt.xlabel('Hidden Layer 1')\n",
        "\n",
        "plt.subplot(1, 3, 2)\n",
        "plt.title(\"Trained model Weights\")\n",
        "ax = sns.violinplot(y=h2_w, color='r')\n",
        "plt.xlabel('Hidden Layer 2 ')\n",
        "\n",
        "plt.subplot(1, 3, 3)\n",
        "plt.title(\"Trained model Weights\")\n",
        "ax = sns.violinplot(y=out_w,color='y')\n",
        "plt.xlabel('Output Layer ')\n",
        "plt.show()"
      ],
      "execution_count": 43,
      "outputs": [
        {
          "output_type": "display_data",
          "data": {
            "image/png": "[encoded data removed]",
            "text/plain": [
              "<Figure size 432x288 with 3 Axes>"
            ]
          },
          "metadata": {
            "tags": []
          }
        }
      ]
    },
    {
      "cell_type": "markdown",
      "metadata": {
        "id": "IWYP8-3pQKct",
        "colab_type": "text"
      },
      "source": [
        "<h2> MLP + Dropout + AdamOptimizer </h2>"
      ]
    },
    {
      "cell_type": "code",
      "metadata": {
        "id": "DJj0hu0-QKct",
        "colab_type": "code",
        "outputId": "4ed4f849-2752-4d61-f8d0-9b2fb0c2835b",
        "colab": {
          "base_uri": "https://localhost:8080/",
          "height": 476
        }
      },
      "source": [
        "#three hidden layers with different weight initializations \n",
        "model_drop = Sequential()\n",
        "\n",
        "model_drop.add(Dense(412, activation='sigmoid', input_shape=(input_dim,), kernel_initializer=RandomNormal(mean=0.0, stddev=0.039, seed=None)))\n",
        "model_drop.add(BatchNormalization())\n",
        "model_drop.add(Dropout(0.3))\n",
        "\n",
        "model_drop.add(Dense(228, activation='sigmoid', kernel_initializer=RandomNormal(mean=0.0, stddev=0.55, seed=None)) )\n",
        "model_drop.add(BatchNormalization())\n",
        "model_drop.add(Dropout(0.3))\n",
        "\n",
        "model_drop.add(Dense(98, activation='sigmoid', kernel_initializer=RandomNormal(mean=0.0, stddev=0.95, seed=None)) )\n",
        "model_drop.add(BatchNormalization())\n",
        "model_drop.add(Dropout(0.3))\n",
        "\n",
        "model_drop.add(Dense(output_dim, activation='softmax'))\n",
        "\n",
        "\n",
        "model_drop.summary()"
      ],
      "execution_count": 53,
      "outputs": [
        {
          "output_type": "stream",
          "text": [
            "_________________________________________________________________\n",
            "Layer (type)                 Output Shape              Param #   \n",
            "=================================================================\n",
            "dense_43 (Dense)             (None, 412)               323420    \n",
            "_________________________________________________________________\n",
            "batch_normalization_27 (Batc (None, 412)               1648      \n",
            "_________________________________________________________________\n",
            "dropout_22 (Dropout)         (None, 412)               0         \n",
            "_________________________________________________________________\n",
            "dense_44 (Dense)             (None, 228)               94164     \n",
            "_________________________________________________________________\n",
            "batch_normalization_28 (Batc (None, 228)               912       \n",
            "_________________________________________________________________\n",
            "dropout_23 (Dropout)         (None, 228)               0         \n",
            "_________________________________________________________________\n",
            "dense_45 (Dense)             (None, 98)                22442     \n",
            "_________________________________________________________________\n",
            "batch_normalization_29 (Batc (None, 98)                392       \n",
            "_________________________________________________________________\n",
            "dropout_24 (Dropout)         (None, 98)                0         \n",
            "_________________________________________________________________\n",
            "dense_46 (Dense)             (None, 10)                990       \n",
            "=================================================================\n",
            "Total params: 443,968\n",
            "Trainable params: 442,492\n",
            "Non-trainable params: 1,476\n",
            "_________________________________________________________________\n"
          ],
          "name": "stdout"
        }
      ]
    },
    {
      "cell_type": "code",
      "metadata": {
        "id": "J5pc4W_9QKcw",
        "colab_type": "code",
        "outputId": "0330b3ff-40e0-40c4-b5c7-a7e08d8991c2",
        "colab": {
          "base_uri": "https://localhost:8080/",
          "height": 714
        }
      },
      "source": [
        "model_drop.compile(optimizer='adam', loss='categorical_crossentropy', metrics=['accuracy'])\n",
        "\n",
        "history = model_drop.fit(X_train, Y_train, batch_size=batch_size, epochs=nb_epoch, verbose=1, validation_data=(X_test, Y_test))"
      ],
      "execution_count": 54,
      "outputs": [
        {
          "output_type": "stream",
          "text": [
            "Train on 60000 samples, validate on 10000 samples\n",
            "Epoch 1/20\n",
            "60000/60000 [==============================] - 11s 178us/step - loss: 0.7992 - acc: 0.7470 - val_loss: 0.3394 - val_acc: 0.8997\n",
            "Epoch 2/20\n",
            "60000/60000 [==============================] - 8s 133us/step - loss: 0.4700 - acc: 0.8568 - val_loss: 0.2916 - val_acc: 0.9153\n",
            "Epoch 3/20\n",
            "60000/60000 [==============================] - 8s 131us/step - loss: 0.4104 - acc: 0.8754 - val_loss: 0.2607 - val_acc: 0.9242\n",
            "Epoch 4/20\n",
            "60000/60000 [==============================] - 8s 133us/step - loss: 0.3763 - acc: 0.8863 - val_loss: 0.2415 - val_acc: 0.9298\n",
            "Epoch 5/20\n",
            "60000/60000 [==============================] - 8s 133us/step - loss: 0.3557 - acc: 0.8930 - val_loss: 0.2300 - val_acc: 0.9331\n",
            "Epoch 6/20\n",
            "60000/60000 [==============================] - 8s 134us/step - loss: 0.3318 - acc: 0.8991 - val_loss: 0.2219 - val_acc: 0.9339\n",
            "Epoch 7/20\n",
            "60000/60000 [==============================] - 8s 132us/step - loss: 0.3157 - acc: 0.9058 - val_loss: 0.2118 - val_acc: 0.9388\n",
            "Epoch 8/20\n",
            "60000/60000 [==============================] - 8s 133us/step - loss: 0.3036 - acc: 0.9074 - val_loss: 0.2004 - val_acc: 0.9422\n",
            "Epoch 9/20\n",
            "60000/60000 [==============================] - 8s 134us/step - loss: 0.2891 - acc: 0.9119 - val_loss: 0.1847 - val_acc: 0.9444\n",
            "Epoch 10/20\n",
            "60000/60000 [==============================] - 8s 133us/step - loss: 0.2730 - acc: 0.9174 - val_loss: 0.1787 - val_acc: 0.9464\n",
            "Epoch 11/20\n",
            "60000/60000 [==============================] - 8s 133us/step - loss: 0.2674 - acc: 0.9200 - val_loss: 0.1783 - val_acc: 0.9481\n",
            "Epoch 12/20\n",
            "60000/60000 [==============================] - 8s 138us/step - loss: 0.2542 - acc: 0.9237 - val_loss: 0.1739 - val_acc: 0.9473\n",
            "Epoch 13/20\n",
            "60000/60000 [==============================] - 8s 136us/step - loss: 0.2451 - acc: 0.9260 - val_loss: 0.1583 - val_acc: 0.9523\n",
            "Epoch 14/20\n",
            "60000/60000 [==============================] - 8s 137us/step - loss: 0.2316 - acc: 0.9309 - val_loss: 0.1542 - val_acc: 0.9534\n",
            "Epoch 15/20\n",
            "60000/60000 [==============================] - 8s 136us/step - loss: 0.2220 - acc: 0.9333 - val_loss: 0.1467 - val_acc: 0.9572\n",
            "Epoch 16/20\n",
            "60000/60000 [==============================] - 8s 132us/step - loss: 0.2155 - acc: 0.9357 - val_loss: 0.1402 - val_acc: 0.9588\n",
            "Epoch 17/20\n",
            "60000/60000 [==============================] - 8s 135us/step - loss: 0.2024 - acc: 0.9387 - val_loss: 0.1348 - val_acc: 0.9605\n",
            "Epoch 18/20\n",
            "60000/60000 [==============================] - 8s 133us/step - loss: 0.1932 - acc: 0.9423 - val_loss: 0.1317 - val_acc: 0.9619\n",
            "Epoch 19/20\n",
            "60000/60000 [==============================] - 8s 136us/step - loss: 0.1906 - acc: 0.9427 - val_loss: 0.1258 - val_acc: 0.9635\n",
            "Epoch 20/20\n",
            "60000/60000 [==============================] - 8s 136us/step - loss: 0.1806 - acc: 0.9460 - val_loss: 0.1233 - val_acc: 0.9624\n"
          ],
          "name": "stdout"
        }
      ]
    },
    {
      "cell_type": "code",
      "metadata": {
        "id": "i5WcfQRFQKc0",
        "colab_type": "code",
        "outputId": "ca705644-df7d-4b3f-fa0e-a1437d092f39",
        "colab": {
          "base_uri": "https://localhost:8080/",
          "height": 317
        }
      },
      "source": [
        "score = model_drop.evaluate(X_test, Y_test, verbose=0) \n",
        "print('Test score:', score[0]) \n",
        "print('Test accuracy:', score[1])\n",
        "\n",
        "fig,ax = plt.subplots(1,1)\n",
        "ax.set_xlabel('epoch') ; ax.set_ylabel('Categorical Crossentropy Loss')\n",
        "\n",
        "# list of epoch numbers\n",
        "x = list(range(1,nb_epoch+1))\n",
        "\n",
        "vy = history.history['val_loss']\n",
        "ty = history.history['loss']\n",
        "plt_dynamic(x, vy, ty, ax)"
      ],
      "execution_count": 55,
      "outputs": [
        {
          "output_type": "stream",
          "text": [
            "Test score: 0.12330705345384776\n",
            "Test accuracy: 0.9624\n"
          ],
          "name": "stdout"
        },
        {
          "output_type": "display_data",
          "data": {
            "image/png": "[encoded data removed]",
            "text/plain": [
              "<Figure size 432x288 with 1 Axes>"
            ]
          },
          "metadata": {
            "tags": []
          }
        }
      ]
    },
    {
      "cell_type": "code",
      "metadata": {
        "id": "U2N2u7xoQKc2",
        "colab_type": "code",
        "outputId": "bec41824-c160-4fda-8422-3d672967d8c5",
        "colab": {
          "base_uri": "https://localhost:8080/",
          "height": 285
        }
      },
      "source": [
        "w_after = model_drop.get_weights()\n",
        "\n",
        "h1_w = w_after[0].flatten().reshape(-1,1)\n",
        "h2_w = w_after[2].flatten().reshape(-1,1)\n",
        "out_w = w_after[4].flatten().reshape(-1,1)\n",
        "\n",
        "\n",
        "fig = plt.figure()\n",
        "plt.title(\"Weight matrices after model trained\")\n",
        "plt.subplot(1, 3, 1)\n",
        "plt.title(\"Trained model Weights\")\n",
        "ax = sns.violinplot(y=h1_w,color='b')\n",
        "plt.xlabel('Hidden Layer 1')\n",
        "\n",
        "plt.subplot(1, 3, 2)\n",
        "plt.title(\"Trained model Weights\")\n",
        "ax = sns.violinplot(y=h2_w, color='r')\n",
        "plt.xlabel('Hidden Layer 2 ')\n",
        "\n",
        "plt.subplot(1, 3, 3)\n",
        "plt.title(\"Trained model Weights\")\n",
        "ax = sns.violinplot(y=out_w,color='y')\n",
        "plt.xlabel('Output Layer ')\n",
        "plt.show()"
      ],
      "execution_count": 56,
      "outputs": [
        {
          "output_type": "display_data",
          "data": {
            "image/png": "[encoded data removed]",
            "text/plain": [
              "<Figure size 432x288 with 3 Axes>"
            ]
          },
          "metadata": {
            "tags": []
          }
        }
      ]
    },
    {
      "cell_type": "markdown",
      "metadata": {
        "id": "_HbLq6Ldqiqz",
        "colab_type": "text"
      },
      "source": [
        "<h2> Conclusion. </h2>"
      ]
    },
    {
      "cell_type": "code",
      "metadata": {
        "id": "pDc25elBmATb",
        "colab_type": "code",
        "outputId": "a9018b8e-c2f6-483f-f60d-39caa2658f67",
        "colab": {
          "base_uri": "https://localhost:8080/",
          "height": 221
        }
      },
      "source": [
        "from prettytable import PrettyTable\n",
        "    \n",
        "x = PrettyTable()\n",
        "\n",
        "x.field_names = [\"Activation Function\",\"optimizer\",\"Batch Normalisations\",\"Dropout\",\"No. of hidden layers\", \"Test Score\", \"Test Accuracy\"]\n",
        "\n",
        "x.add_row([\"relu\", \"AdamOptimizer\", \"Yes\", 0.5, 2, 0.054, 0.98])\n",
        "x.add_row([\"relu\", \"AdamOptimizer\", \"Yes\", 0.5, 3, 0.060, 0.98])\n",
        "x.add_row([\"relu\", \"AdamOptimizer\", \"Yes\", 0.5, 5, 0.071, 0.98])\n",
        "x.add_row([\"relu\", \"SGDOptimizer\", \"No\", \"No dropout\", 3, 0.102, 0.97])\n",
        "x.add_row([\"Sigmoid\", \"SGDOptimizer\", \"No\", \"No droput\", 3, 1.13, 0.68])\n",
        "x.add_row([\"Sigmoid\", \"AdamOptimizer\", \"Yes\", 0.2, 5, 0.067, 0.98])\n",
        "x.add_row([\"Sigmoid\", \"AdamOptimizer\", \"Yes\", \"No droput\", 5, 0.102, 0.97])\n",
        "x.add_row([\"Sigmoid\", \"AdamOptimizer\", \"Yes\", 0.3, 3, 0.123, 0.96])\n",
        "print(x)"
      ],
      "execution_count": 60,
      "outputs": [
        {
          "output_type": "stream",
          "text": [
            "+---------------------+---------------+----------------------+------------+----------------------+------------+---------------+\n",
            "| Activation Function |   optimizer   | Batch Normalisations |  Dropout   | No. of hidden layers | Test Score | Test Accuracy |\n",
            "+---------------------+---------------+----------------------+------------+----------------------+------------+---------------+\n",
            "|         relu        | AdamOptimizer |         Yes          |    0.5     |          2           |   0.054    |      0.98     |\n",
            "|         relu        | AdamOptimizer |         Yes          |    0.5     |          3           |    0.06    |      0.98     |\n",
            "|         relu        | AdamOptimizer |         Yes          |    0.5     |          5           |   0.071    |      0.98     |\n",
            "|         relu        |  SGDOptimizer |          No          | No dropout |          3           |   0.102    |      0.97     |\n",
            "|       Sigmoid       |  SGDOptimizer |          No          | No droput  |          3           |    1.13    |      0.68     |\n",
            "|       Sigmoid       | AdamOptimizer |         Yes          |    0.2     |          5           |   0.067    |      0.98     |\n",
            "|       Sigmoid       | AdamOptimizer |         Yes          | No droput  |          5           |   0.102    |      0.97     |\n",
            "|       Sigmoid       | AdamOptimizer |         Yes          |    0.3     |          3           |   0.123    |      0.96     |\n",
            "+---------------------+---------------+----------------------+------------+----------------------+------------+---------------+\n"
          ],
          "name": "stdout"
        }
      ]
    },
    {
      "cell_type": "markdown",
      "metadata": {
        "id": "5__s47bzzWo3",
        "colab_type": "text"
      },
      "source": [
        "<h2> Obervations: </h2>"
      ]
    },
    {
      "cell_type": "markdown",
      "metadata": {
        "id": "En7Un3f2qrq_",
        "colab_type": "text"
      },
      "source": [
        "<h3>1.We can see with different architecture,activation function & optimizer test score and test accuracy have changed differently "
      ]
    },
    {
      "cell_type": "markdown",
      "metadata": {
        "id": "99o5xUD6qr4G",
        "colab_type": "text"
      },
      "source": [
        "<h3>2.from above table, we can observe relu activation have  minimum test score and maximum test accuracy."
      ]
    },
    {
      "cell_type": "markdown",
      "metadata": {
        "id": "vi9qEiE1qsPJ",
        "colab_type": "text"
      },
      "source": [
        "<h3>3.AdamOptimizer is better than sgdoptimizer"
      ]
    },
    {
      "cell_type": "markdown",
      "metadata": {
        "id": "GeinIgSrqsmF",
        "colab_type": "text"
      },
      "source": [
        "<h3>4.Batch Normalisations and Dropout are playing important role in improving test accuracy"
      ]
    },
    {
      "cell_type": "markdown",
      "metadata": {
        "id": "YX7ymacDqr2Y",
        "colab_type": "text"
      },
      "source": [
        "<h3>5.MLP having sigmoid activation and sgdoptimizer alongwith three hidden layers and no BN & dropout are having very minimum accuracy i.e.0.68"
      ]
    },
    {
      "cell_type": "markdown",
      "metadata": {
        "id": "I5y_CE6vylU6",
        "colab_type": "text"
      },
      "source": [
        "<h3>6.With keras it become easy to implement deep neural network.While doing this assignment I learned many new things.Deep learning is very powerful than classical modeling."
      ]
    }
  ]
}